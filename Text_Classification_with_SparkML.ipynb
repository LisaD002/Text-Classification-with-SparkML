{
  "nbformat": 4,
  "nbformat_minor": 0,
  "metadata": {
    "colab": {
      "provenance": []
    },
    "kernelspec": {
      "name": "python3",
      "display_name": "Python 3"
    },
    "language_info": {
      "name": "python"
    }
  },
  "cells": [
    {
      "cell_type": "code",
      "execution_count": null,
      "metadata": {
        "colab": {
          "base_uri": "https://localhost:8080/"
        },
        "id": "XS1xE_vBjetB",
        "outputId": "27522a09-1a3a-4916-80a5-e6340f0e7b22"
      },
      "outputs": [
        {
          "output_type": "stream",
          "name": "stdout",
          "text": [
            "\u001b[2K     \u001b[90m━━━━━━━━━━━━━━━━━━━━━━━━━━━━━━━━━━━━━━━━\u001b[0m \u001b[32m212.4/212.4 MB\u001b[0m \u001b[31m4.3 MB/s\u001b[0m eta \u001b[36m0:00:00\u001b[0m\n",
            "\u001b[?25h  Preparing metadata (setup.py) ... \u001b[?25l\u001b[?25hdone\n",
            "\u001b[2K     \u001b[90m━━━━━━━━━━━━━━━━━━━━━━━━━━━━━━━━━━━━━━━━\u001b[0m \u001b[32m448.4/448.4 kB\u001b[0m \u001b[31m32.8 MB/s\u001b[0m eta \u001b[36m0:00:00\u001b[0m\n",
            "\u001b[2K     \u001b[90m━━━━━━━━━━━━━━━━━━━━━━━━━━━━━━━━━━━━━━━━\u001b[0m \u001b[32m198.6/198.6 kB\u001b[0m \u001b[31m13.9 MB/s\u001b[0m eta \u001b[36m0:00:00\u001b[0m\n",
            "\u001b[?25h  Building wheel for pyspark (setup.py) ... \u001b[?25l\u001b[?25hdone\n"
          ]
        }
      ],
      "source": [
        "!pip install -q pyspark==3.1.2 spark-nlp==4.2.4"
      ]
    },
    {
      "cell_type": "code",
      "source": [
        "import sparknlp\n",
        "import pandas as pd\n",
        "import pyspark.sql.functions as F\n",
        "import seaborn as sns\n",
        "import matplotlib.pyplot as plt\n",
        "from pyspark.sql.functions import array_contains\n",
        "from sparknlp.annotator import *\n",
        "from sparknlp.common import RegexRule\n",
        "from sparknlp.base import DocumentAssembler, Finisher\n",
        "from pyspark.sql.types import StructType, StructField, DoubleType\n",
        "from pyspark.ml.evaluation import BinaryClassificationEvaluator\n",
        "from pyspark.ml.feature import StringIndexer\n",
        "from pyspark.ml.tuning import CrossValidator, ParamGridBuilder\n",
        "from pyspark.ml.feature import HashingTF, Tokenizer\n",
        "from sklearn import metrics\n",
        "from sklearn.metrics import f1_score, accuracy_score,confusion_matrix,classification_report\n",
        "\n",
        "from pyspark.ml.classification import RandomForestClassifier\n",
        "from pyspark.ml import Pipeline # pipeline to transform data\n",
        "from pyspark.sql import SparkSession # to initiate spark\n",
        "from pyspark.sql.types import FloatType\n",
        "from pyspark.ml.feature import RegexTokenizer # tokenizer\n",
        "from pyspark.ml.feature import HashingTF, IDF # vectorizer\n",
        "from pyspark.ml.feature import StopWordsRemover # to remove stop words\n",
        "from pyspark.sql.functions import concat_ws, col # to concatinate cols\n",
        "from pyspark.ml.classification import LogisticRegression # ml model\n",
        "from pyspark.ml.evaluation import MulticlassClassificationEvaluator # to evaluate the model\n",
        "\n",
        "from pyspark.mllib.evaluation import MulticlassMetrics #  performance metrics\n",
        "from pyspark.sql.functions import col\n",
        "from pyspark.sql.types import StringType,BooleanType,DateType\n",
        "from pyspark.sql.types import IntegerType\n",
        "\n",
        "\n",
        "spark = sparknlp.start()\n",
        "print(\"Spark NLP Version:\", sparknlp.version())\n",
        "print(\"Apache Spark version:\", spark.version)\n",
        "\n",
        "\n",
        "spark"
      ],
      "metadata": {
        "colab": {
          "base_uri": "https://localhost:8080/",
          "height": 257
        },
        "id": "VkUVrG9ikGJQ",
        "outputId": "4f80ab0a-cf34-4a2a-a91f-076a7390f889"
      },
      "execution_count": null,
      "outputs": [
        {
          "output_type": "stream",
          "name": "stdout",
          "text": [
            "Spark NLP Version: 4.2.4\n",
            "Apache Spark version: 3.1.2\n"
          ]
        },
        {
          "output_type": "execute_result",
          "data": {
            "text/plain": [
              "<pyspark.sql.session.SparkSession at 0x780c1ac2e650>"
            ],
            "text/html": [
              "\n",
              "            <div>\n",
              "                <p><b>SparkSession - in-memory</b></p>\n",
              "                \n",
              "        <div>\n",
              "            <p><b>SparkContext</b></p>\n",
              "\n",
              "            <p><a href=\"http://0dfbff32763c:4040\">Spark UI</a></p>\n",
              "\n",
              "            <dl>\n",
              "              <dt>Version</dt>\n",
              "                <dd><code>v3.1.2</code></dd>\n",
              "              <dt>Master</dt>\n",
              "                <dd><code>local[*]</code></dd>\n",
              "              <dt>AppName</dt>\n",
              "                <dd><code>Spark NLP</code></dd>\n",
              "            </dl>\n",
              "        </div>\n",
              "        \n",
              "            </div>\n",
              "        "
            ]
          },
          "metadata": {},
          "execution_count": 75
        }
      ]
    },
    {
      "cell_type": "code",
      "source": [
        "spark = SparkSession.builder.master(\"local[*]\")\\\n",
        "                            .appName(\"news classfier\")\\\n",
        "                            .getOrCreate()"
      ],
      "metadata": {
        "id": "mt29Si-eqcdv"
      },
      "execution_count": null,
      "outputs": []
    },
    {
      "cell_type": "code",
      "source": [
        "from google.colab import files\n",
        "uploaded = files.upload()"
      ],
      "metadata": {
        "colab": {
          "base_uri": "https://localhost:8080/",
          "height": 74
        },
        "id": "pxYmeu8AmfCk",
        "outputId": "26c87a08-8266-4016-b12a-0851d0cbe881"
      },
      "execution_count": null,
      "outputs": [
        {
          "output_type": "display_data",
          "data": {
            "text/plain": [
              "<IPython.core.display.HTML object>"
            ],
            "text/html": [
              "\n",
              "     <input type=\"file\" id=\"files-fad0c3ac-945f-4ad0-bb75-f9ed61d50e34\" name=\"files[]\" multiple disabled\n",
              "        style=\"border:none\" />\n",
              "     <output id=\"result-fad0c3ac-945f-4ad0-bb75-f9ed61d50e34\">\n",
              "      Upload widget is only available when the cell has been executed in the\n",
              "      current browser session. Please rerun this cell to enable.\n",
              "      </output>\n",
              "      <script>// Copyright 2017 Google LLC\n",
              "//\n",
              "// Licensed under the Apache License, Version 2.0 (the \"License\");\n",
              "// you may not use this file except in compliance with the License.\n",
              "// You may obtain a copy of the License at\n",
              "//\n",
              "//      http://www.apache.org/licenses/LICENSE-2.0\n",
              "//\n",
              "// Unless required by applicable law or agreed to in writing, software\n",
              "// distributed under the License is distributed on an \"AS IS\" BASIS,\n",
              "// WITHOUT WARRANTIES OR CONDITIONS OF ANY KIND, either express or implied.\n",
              "// See the License for the specific language governing permissions and\n",
              "// limitations under the License.\n",
              "\n",
              "/**\n",
              " * @fileoverview Helpers for google.colab Python module.\n",
              " */\n",
              "(function(scope) {\n",
              "function span(text, styleAttributes = {}) {\n",
              "  const element = document.createElement('span');\n",
              "  element.textContent = text;\n",
              "  for (const key of Object.keys(styleAttributes)) {\n",
              "    element.style[key] = styleAttributes[key];\n",
              "  }\n",
              "  return element;\n",
              "}\n",
              "\n",
              "// Max number of bytes which will be uploaded at a time.\n",
              "const MAX_PAYLOAD_SIZE = 100 * 1024;\n",
              "\n",
              "function _uploadFiles(inputId, outputId) {\n",
              "  const steps = uploadFilesStep(inputId, outputId);\n",
              "  const outputElement = document.getElementById(outputId);\n",
              "  // Cache steps on the outputElement to make it available for the next call\n",
              "  // to uploadFilesContinue from Python.\n",
              "  outputElement.steps = steps;\n",
              "\n",
              "  return _uploadFilesContinue(outputId);\n",
              "}\n",
              "\n",
              "// This is roughly an async generator (not supported in the browser yet),\n",
              "// where there are multiple asynchronous steps and the Python side is going\n",
              "// to poll for completion of each step.\n",
              "// This uses a Promise to block the python side on completion of each step,\n",
              "// then passes the result of the previous step as the input to the next step.\n",
              "function _uploadFilesContinue(outputId) {\n",
              "  const outputElement = document.getElementById(outputId);\n",
              "  const steps = outputElement.steps;\n",
              "\n",
              "  const next = steps.next(outputElement.lastPromiseValue);\n",
              "  return Promise.resolve(next.value.promise).then((value) => {\n",
              "    // Cache the last promise value to make it available to the next\n",
              "    // step of the generator.\n",
              "    outputElement.lastPromiseValue = value;\n",
              "    return next.value.response;\n",
              "  });\n",
              "}\n",
              "\n",
              "/**\n",
              " * Generator function which is called between each async step of the upload\n",
              " * process.\n",
              " * @param {string} inputId Element ID of the input file picker element.\n",
              " * @param {string} outputId Element ID of the output display.\n",
              " * @return {!Iterable<!Object>} Iterable of next steps.\n",
              " */\n",
              "function* uploadFilesStep(inputId, outputId) {\n",
              "  const inputElement = document.getElementById(inputId);\n",
              "  inputElement.disabled = false;\n",
              "\n",
              "  const outputElement = document.getElementById(outputId);\n",
              "  outputElement.innerHTML = '';\n",
              "\n",
              "  const pickedPromise = new Promise((resolve) => {\n",
              "    inputElement.addEventListener('change', (e) => {\n",
              "      resolve(e.target.files);\n",
              "    });\n",
              "  });\n",
              "\n",
              "  const cancel = document.createElement('button');\n",
              "  inputElement.parentElement.appendChild(cancel);\n",
              "  cancel.textContent = 'Cancel upload';\n",
              "  const cancelPromise = new Promise((resolve) => {\n",
              "    cancel.onclick = () => {\n",
              "      resolve(null);\n",
              "    };\n",
              "  });\n",
              "\n",
              "  // Wait for the user to pick the files.\n",
              "  const files = yield {\n",
              "    promise: Promise.race([pickedPromise, cancelPromise]),\n",
              "    response: {\n",
              "      action: 'starting',\n",
              "    }\n",
              "  };\n",
              "\n",
              "  cancel.remove();\n",
              "\n",
              "  // Disable the input element since further picks are not allowed.\n",
              "  inputElement.disabled = true;\n",
              "\n",
              "  if (!files) {\n",
              "    return {\n",
              "      response: {\n",
              "        action: 'complete',\n",
              "      }\n",
              "    };\n",
              "  }\n",
              "\n",
              "  for (const file of files) {\n",
              "    const li = document.createElement('li');\n",
              "    li.append(span(file.name, {fontWeight: 'bold'}));\n",
              "    li.append(span(\n",
              "        `(${file.type || 'n/a'}) - ${file.size} bytes, ` +\n",
              "        `last modified: ${\n",
              "            file.lastModifiedDate ? file.lastModifiedDate.toLocaleDateString() :\n",
              "                                    'n/a'} - `));\n",
              "    const percent = span('0% done');\n",
              "    li.appendChild(percent);\n",
              "\n",
              "    outputElement.appendChild(li);\n",
              "\n",
              "    const fileDataPromise = new Promise((resolve) => {\n",
              "      const reader = new FileReader();\n",
              "      reader.onload = (e) => {\n",
              "        resolve(e.target.result);\n",
              "      };\n",
              "      reader.readAsArrayBuffer(file);\n",
              "    });\n",
              "    // Wait for the data to be ready.\n",
              "    let fileData = yield {\n",
              "      promise: fileDataPromise,\n",
              "      response: {\n",
              "        action: 'continue',\n",
              "      }\n",
              "    };\n",
              "\n",
              "    // Use a chunked sending to avoid message size limits. See b/62115660.\n",
              "    let position = 0;\n",
              "    do {\n",
              "      const length = Math.min(fileData.byteLength - position, MAX_PAYLOAD_SIZE);\n",
              "      const chunk = new Uint8Array(fileData, position, length);\n",
              "      position += length;\n",
              "\n",
              "      const base64 = btoa(String.fromCharCode.apply(null, chunk));\n",
              "      yield {\n",
              "        response: {\n",
              "          action: 'append',\n",
              "          file: file.name,\n",
              "          data: base64,\n",
              "        },\n",
              "      };\n",
              "\n",
              "      let percentDone = fileData.byteLength === 0 ?\n",
              "          100 :\n",
              "          Math.round((position / fileData.byteLength) * 100);\n",
              "      percent.textContent = `${percentDone}% done`;\n",
              "\n",
              "    } while (position < fileData.byteLength);\n",
              "  }\n",
              "\n",
              "  // All done.\n",
              "  yield {\n",
              "    response: {\n",
              "      action: 'complete',\n",
              "    }\n",
              "  };\n",
              "}\n",
              "\n",
              "scope.google = scope.google || {};\n",
              "scope.google.colab = scope.google.colab || {};\n",
              "scope.google.colab._files = {\n",
              "  _uploadFiles,\n",
              "  _uploadFilesContinue,\n",
              "};\n",
              "})(self);\n",
              "</script> "
            ]
          },
          "metadata": {}
        },
        {
          "output_type": "stream",
          "name": "stdout",
          "text": [
            "Saving yelp_review_train.csv to yelp_review_train.csv\n"
          ]
        }
      ]
    },
    {
      "cell_type": "code",
      "source": [
        "from google.colab import files\n",
        "uploaded2 = files.upload()\n"
      ],
      "metadata": {
        "colab": {
          "base_uri": "https://localhost:8080/",
          "height": 74
        },
        "id": "UVOuaHJom7Vw",
        "outputId": "84b27613-26b1-41bb-e35b-c6c8697e12d8"
      },
      "execution_count": null,
      "outputs": [
        {
          "output_type": "display_data",
          "data": {
            "text/plain": [
              "<IPython.core.display.HTML object>"
            ],
            "text/html": [
              "\n",
              "     <input type=\"file\" id=\"files-5a9ffe50-4487-44c1-9af3-f43429f6bd0d\" name=\"files[]\" multiple disabled\n",
              "        style=\"border:none\" />\n",
              "     <output id=\"result-5a9ffe50-4487-44c1-9af3-f43429f6bd0d\">\n",
              "      Upload widget is only available when the cell has been executed in the\n",
              "      current browser session. Please rerun this cell to enable.\n",
              "      </output>\n",
              "      <script>// Copyright 2017 Google LLC\n",
              "//\n",
              "// Licensed under the Apache License, Version 2.0 (the \"License\");\n",
              "// you may not use this file except in compliance with the License.\n",
              "// You may obtain a copy of the License at\n",
              "//\n",
              "//      http://www.apache.org/licenses/LICENSE-2.0\n",
              "//\n",
              "// Unless required by applicable law or agreed to in writing, software\n",
              "// distributed under the License is distributed on an \"AS IS\" BASIS,\n",
              "// WITHOUT WARRANTIES OR CONDITIONS OF ANY KIND, either express or implied.\n",
              "// See the License for the specific language governing permissions and\n",
              "// limitations under the License.\n",
              "\n",
              "/**\n",
              " * @fileoverview Helpers for google.colab Python module.\n",
              " */\n",
              "(function(scope) {\n",
              "function span(text, styleAttributes = {}) {\n",
              "  const element = document.createElement('span');\n",
              "  element.textContent = text;\n",
              "  for (const key of Object.keys(styleAttributes)) {\n",
              "    element.style[key] = styleAttributes[key];\n",
              "  }\n",
              "  return element;\n",
              "}\n",
              "\n",
              "// Max number of bytes which will be uploaded at a time.\n",
              "const MAX_PAYLOAD_SIZE = 100 * 1024;\n",
              "\n",
              "function _uploadFiles(inputId, outputId) {\n",
              "  const steps = uploadFilesStep(inputId, outputId);\n",
              "  const outputElement = document.getElementById(outputId);\n",
              "  // Cache steps on the outputElement to make it available for the next call\n",
              "  // to uploadFilesContinue from Python.\n",
              "  outputElement.steps = steps;\n",
              "\n",
              "  return _uploadFilesContinue(outputId);\n",
              "}\n",
              "\n",
              "// This is roughly an async generator (not supported in the browser yet),\n",
              "// where there are multiple asynchronous steps and the Python side is going\n",
              "// to poll for completion of each step.\n",
              "// This uses a Promise to block the python side on completion of each step,\n",
              "// then passes the result of the previous step as the input to the next step.\n",
              "function _uploadFilesContinue(outputId) {\n",
              "  const outputElement = document.getElementById(outputId);\n",
              "  const steps = outputElement.steps;\n",
              "\n",
              "  const next = steps.next(outputElement.lastPromiseValue);\n",
              "  return Promise.resolve(next.value.promise).then((value) => {\n",
              "    // Cache the last promise value to make it available to the next\n",
              "    // step of the generator.\n",
              "    outputElement.lastPromiseValue = value;\n",
              "    return next.value.response;\n",
              "  });\n",
              "}\n",
              "\n",
              "/**\n",
              " * Generator function which is called between each async step of the upload\n",
              " * process.\n",
              " * @param {string} inputId Element ID of the input file picker element.\n",
              " * @param {string} outputId Element ID of the output display.\n",
              " * @return {!Iterable<!Object>} Iterable of next steps.\n",
              " */\n",
              "function* uploadFilesStep(inputId, outputId) {\n",
              "  const inputElement = document.getElementById(inputId);\n",
              "  inputElement.disabled = false;\n",
              "\n",
              "  const outputElement = document.getElementById(outputId);\n",
              "  outputElement.innerHTML = '';\n",
              "\n",
              "  const pickedPromise = new Promise((resolve) => {\n",
              "    inputElement.addEventListener('change', (e) => {\n",
              "      resolve(e.target.files);\n",
              "    });\n",
              "  });\n",
              "\n",
              "  const cancel = document.createElement('button');\n",
              "  inputElement.parentElement.appendChild(cancel);\n",
              "  cancel.textContent = 'Cancel upload';\n",
              "  const cancelPromise = new Promise((resolve) => {\n",
              "    cancel.onclick = () => {\n",
              "      resolve(null);\n",
              "    };\n",
              "  });\n",
              "\n",
              "  // Wait for the user to pick the files.\n",
              "  const files = yield {\n",
              "    promise: Promise.race([pickedPromise, cancelPromise]),\n",
              "    response: {\n",
              "      action: 'starting',\n",
              "    }\n",
              "  };\n",
              "\n",
              "  cancel.remove();\n",
              "\n",
              "  // Disable the input element since further picks are not allowed.\n",
              "  inputElement.disabled = true;\n",
              "\n",
              "  if (!files) {\n",
              "    return {\n",
              "      response: {\n",
              "        action: 'complete',\n",
              "      }\n",
              "    };\n",
              "  }\n",
              "\n",
              "  for (const file of files) {\n",
              "    const li = document.createElement('li');\n",
              "    li.append(span(file.name, {fontWeight: 'bold'}));\n",
              "    li.append(span(\n",
              "        `(${file.type || 'n/a'}) - ${file.size} bytes, ` +\n",
              "        `last modified: ${\n",
              "            file.lastModifiedDate ? file.lastModifiedDate.toLocaleDateString() :\n",
              "                                    'n/a'} - `));\n",
              "    const percent = span('0% done');\n",
              "    li.appendChild(percent);\n",
              "\n",
              "    outputElement.appendChild(li);\n",
              "\n",
              "    const fileDataPromise = new Promise((resolve) => {\n",
              "      const reader = new FileReader();\n",
              "      reader.onload = (e) => {\n",
              "        resolve(e.target.result);\n",
              "      };\n",
              "      reader.readAsArrayBuffer(file);\n",
              "    });\n",
              "    // Wait for the data to be ready.\n",
              "    let fileData = yield {\n",
              "      promise: fileDataPromise,\n",
              "      response: {\n",
              "        action: 'continue',\n",
              "      }\n",
              "    };\n",
              "\n",
              "    // Use a chunked sending to avoid message size limits. See b/62115660.\n",
              "    let position = 0;\n",
              "    do {\n",
              "      const length = Math.min(fileData.byteLength - position, MAX_PAYLOAD_SIZE);\n",
              "      const chunk = new Uint8Array(fileData, position, length);\n",
              "      position += length;\n",
              "\n",
              "      const base64 = btoa(String.fromCharCode.apply(null, chunk));\n",
              "      yield {\n",
              "        response: {\n",
              "          action: 'append',\n",
              "          file: file.name,\n",
              "          data: base64,\n",
              "        },\n",
              "      };\n",
              "\n",
              "      let percentDone = fileData.byteLength === 0 ?\n",
              "          100 :\n",
              "          Math.round((position / fileData.byteLength) * 100);\n",
              "      percent.textContent = `${percentDone}% done`;\n",
              "\n",
              "    } while (position < fileData.byteLength);\n",
              "  }\n",
              "\n",
              "  // All done.\n",
              "  yield {\n",
              "    response: {\n",
              "      action: 'complete',\n",
              "    }\n",
              "  };\n",
              "}\n",
              "\n",
              "scope.google = scope.google || {};\n",
              "scope.google.colab = scope.google.colab || {};\n",
              "scope.google.colab._files = {\n",
              "  _uploadFiles,\n",
              "  _uploadFilesContinue,\n",
              "};\n",
              "})(self);\n",
              "</script> "
            ]
          },
          "metadata": {}
        },
        {
          "output_type": "stream",
          "name": "stdout",
          "text": [
            "Saving yelp_review_test.csv to yelp_review_test.csv\n"
          ]
        }
      ]
    },
    {
      "cell_type": "code",
      "source": [
        "yelp_review_train = uploaded"
      ],
      "metadata": {
        "id": "R_As5H9hoKZW"
      },
      "execution_count": null,
      "outputs": []
    },
    {
      "cell_type": "code",
      "source": [
        "yelp_review_test = uploaded2"
      ],
      "metadata": {
        "id": "V3YYDQSRoQdI"
      },
      "execution_count": null,
      "outputs": []
    },
    {
      "cell_type": "code",
      "source": [
        "columns = [\"label\", \"text\"]"
      ],
      "metadata": {
        "id": "kMgORLzXouAt"
      },
      "execution_count": null,
      "outputs": []
    },
    {
      "cell_type": "code",
      "source": [
        "yelp_review_train = spark.read \\\n",
        "   .option(\"header\", True) \\\n",
        "   .csv(\"yelp_review_train.csv\")\n",
        "\n",
        "yelp_review_train.show(10, truncate=150)"
      ],
      "metadata": {
        "colab": {
          "base_uri": "https://localhost:8080/"
        },
        "id": "svWODncrvNP4",
        "outputId": "e7b96257-d709-4623-ef76-9d194b6a4b2b"
      },
      "execution_count": null,
      "outputs": [
        {
          "output_type": "stream",
          "name": "stdout",
          "text": [
            "+------+-----+------------------------------------------------------------------------------------------------------------------------------------------------------+\n",
            "|   _c0|label|                                                                                                                                                  text|\n",
            "+------+-----+------------------------------------------------------------------------------------------------------------------------------------------------------+\n",
            "|203363|    4|\"Great BBQ dinners.  I have had the chicken and beef and both are excellent.  I especially like the \"\"Thank Q\\\"\" donut at the end of dinner.  Very ...|\n",
            "|292846|    1|FOLLOW UP :  The Guest Service Management contacted me and they have been very kind, helpful and friendly.  They have offered us another try.  We w...|\n",
            "|152793|    0|Nothing positive to say about this place. Absolutely awful. We ordered three plates at lunch. Shredded beef tacos: no beef, no taste of what beef t...|\n",
            "|553140|    2|                                                                              Ship-wrecked burger is great. Mac and cheese is bland. Service was good.|\n",
            "|188888|    1|Ok, I changed my mind.  I don't really like the Wynn Buffet anymore.  First, there are long lines to get in.  Then, it's $39.95 per person.  Then y...|\n",
            "|493060|    3|                          lovely to look at but ac up way too much in the building, hard to get a seat inside when they have a whole floor off limits,|\n",
            "|411854|    0|Want to pay a lot of money ($60) for a mediocre lunch for two? This is your place. As an added bonus you get really loud music, plastic cups for yo...|\n",
            "|468753|    0|\"Every time I walk in here I have this conversation with one of the experts here. I am not kidding at all. \"\"Can I help you with something or do yo...|\n",
            "|154089|    4|I've eaten at a lot of Thai places and this one is one of the best I've every been to!  The Nam Prik Ong was awesome and the drunken noodles with P...|\n",
            "|576967|    1|Not impressed. Took forever to find and was basically like a Mod pizza restaurant. And they didn't have any gluten free crust, which is why we soug...|\n",
            "+------+-----+------------------------------------------------------------------------------------------------------------------------------------------------------+\n",
            "only showing top 10 rows\n",
            "\n"
          ]
        }
      ]
    },
    {
      "cell_type": "code",
      "source": [
        "yelp_review_test = spark.read \\\n",
        "   .option(\"header\", True) \\\n",
        "   .csv(\"yelp_review_test.csv\")\n",
        "\n",
        "yelp_review_test.show(10, truncate=150)"
      ],
      "metadata": {
        "colab": {
          "base_uri": "https://localhost:8080/"
        },
        "id": "NLjkAsD4xAtb",
        "outputId": "0be95ed9-35c6-45e3-af1a-94635ce95971"
      },
      "execution_count": null,
      "outputs": [
        {
          "output_type": "stream",
          "name": "stdout",
          "text": [
            "+-----+-----+------------------------------------------------------------------------------------------------------------------------------------------------------+\n",
            "|  _c0|label|                                                                                                                                                  text|\n",
            "+-----+-----+------------------------------------------------------------------------------------------------------------------------------------------------------+\n",
            "| 8226|    4|                 The people that work here are amazing. All of them. They're not only friendly but they take care things. Great experience every time.|\n",
            "|36026|    2|                                                                                             The boba drink was terrible, but the shaved ice was good.|\n",
            "|48918|    2|My expectations may be too high...let's start off with the positives.  Big parking lot, modern decor and very spacious.  Great service for having o...|\n",
            "|35478|    4|Very clean and comfortable poker room. The best in Vegas! Be sure to order the cappuccino with the swizzle stick sugar.. sooo good. Also they have ...|\n",
            "|39009|    4|One of my new favorite places.  The food is so delicious and reasonably priced and the staff is really friendly.  The music / television can be a b...|\n",
            "|14646|    2|This review is for the weekend brunch buffet - it gets high marks for presentation but low marks for food.  I always think that for the money the f...|\n",
            "| 3195|    4|                                                                                                     Amazing happy hour! Spendy but not at happy hour.|\n",
            "| 4945|    0|                                                                                                   Very expensive tourist trap. The food is pure crap.|\n",
            "|23173|    2|\"Rolled up late afternoon looking for some steak action. I was a bit skeptical seeing the 3.5 star rating. And my presumptions proved to be true =\\...|\n",
            "|40718|    1|A/c broken tonight, now I see it was broken 10 days ago.  Wth?  It didn't help that they sat us next to a huge window that was baking in the 90-deg...|\n",
            "+-----+-----+------------------------------------------------------------------------------------------------------------------------------------------------------+\n",
            "only showing top 10 rows\n",
            "\n"
          ]
        }
      ]
    },
    {
      "cell_type": "code",
      "source": [
        "yelp_review_train.printSchema()"
      ],
      "metadata": {
        "colab": {
          "base_uri": "https://localhost:8080/"
        },
        "id": "obCRal6owPGR",
        "outputId": "6fa5da5b-b734-414b-be9e-f680dff64f78"
      },
      "execution_count": null,
      "outputs": [
        {
          "output_type": "stream",
          "name": "stdout",
          "text": [
            "root\n",
            " |-- _c0: string (nullable = true)\n",
            " |-- label: string (nullable = true)\n",
            " |-- text: string (nullable = true)\n",
            "\n"
          ]
        }
      ]
    },
    {
      "cell_type": "code",
      "source": [
        "yelp_review_test.printSchema()"
      ],
      "metadata": {
        "colab": {
          "base_uri": "https://localhost:8080/"
        },
        "id": "iMacHOBqwSNF",
        "outputId": "c9ecd2ba-c217-4f6f-a990-7ea2d340f04e"
      },
      "execution_count": null,
      "outputs": [
        {
          "output_type": "stream",
          "name": "stdout",
          "text": [
            "root\n",
            " |-- _c0: string (nullable = true)\n",
            " |-- label: string (nullable = true)\n",
            " |-- text: string (nullable = true)\n",
            "\n"
          ]
        }
      ]
    },
    {
      "cell_type": "code",
      "source": [
        "yelp_review_train = yelp_review_train.dropna()"
      ],
      "metadata": {
        "id": "iBL8tbg11Btr"
      },
      "execution_count": null,
      "outputs": []
    },
    {
      "cell_type": "code",
      "source": [
        "yelp_review_test = yelp_review_test.dropna()"
      ],
      "metadata": {
        "id": "tt42EwWP1I2r"
      },
      "execution_count": null,
      "outputs": []
    },
    {
      "cell_type": "code",
      "source": [
        "yelp_review_train.count()"
      ],
      "metadata": {
        "colab": {
          "base_uri": "https://localhost:8080/"
        },
        "id": "fb7LvE6o1NHc",
        "outputId": "e52749dd-8472-4740-b9dc-9719b7ebb5ce"
      },
      "execution_count": null,
      "outputs": [
        {
          "output_type": "execute_result",
          "data": {
            "text/plain": [
              "32500"
            ]
          },
          "metadata": {},
          "execution_count": 15
        }
      ]
    },
    {
      "cell_type": "code",
      "source": [
        "yelp_review_test.count()"
      ],
      "metadata": {
        "colab": {
          "base_uri": "https://localhost:8080/"
        },
        "id": "3zUpg5I01Slz",
        "outputId": "71000a55-b3c6-4d78-96a5-456ecf644493"
      },
      "execution_count": null,
      "outputs": [
        {
          "output_type": "execute_result",
          "data": {
            "text/plain": [
              "5000"
            ]
          },
          "metadata": {},
          "execution_count": 16
        }
      ]
    },
    {
      "cell_type": "code",
      "source": [
        "yelp_review_train= yelp_review_train.withColumnRenamed('_c0', 'id')"
      ],
      "metadata": {
        "id": "4LgZZHciCqfA"
      },
      "execution_count": null,
      "outputs": []
    },
    {
      "cell_type": "code",
      "source": [
        "yelp_review_test= yelp_review_test.withColumnRenamed('_c0', 'id')"
      ],
      "metadata": {
        "id": "1_DYPEyoC336"
      },
      "execution_count": null,
      "outputs": []
    },
    {
      "cell_type": "code",
      "source": [
        "# convert sentences to list of words\n",
        "tokenizer = RegexTokenizer(inputCol=\"text\", outputCol=\"words\", pattern=\"\\\\W\")\n",
        "\n",
        "# adds a column 'words' to df after tokenization\n",
        "yelp_review_train = tokenizer.transform(yelp_review_train)\n",
        "\n",
        "yelp_review_train.select(['label','text', 'words']).show(5)"
      ],
      "metadata": {
        "colab": {
          "base_uri": "https://localhost:8080/"
        },
        "id": "nB4SHZNFC82n",
        "outputId": "02b38725-b54a-484c-f714-aa4e9076feb4"
      },
      "execution_count": null,
      "outputs": [
        {
          "output_type": "stream",
          "name": "stdout",
          "text": [
            "+-----+--------------------+--------------------+\n",
            "|label|                text|               words|\n",
            "+-----+--------------------+--------------------+\n",
            "|    4|\"Great BBQ dinner...|[great, bbq, dinn...|\n",
            "|    1|FOLLOW UP :  The ...|[follow, up, the,...|\n",
            "|    0|Nothing positive ...|[nothing, positiv...|\n",
            "|    2|Ship-wrecked burg...|[ship, wrecked, b...|\n",
            "|    1|Ok, I changed my ...|[ok, i, changed, ...|\n",
            "+-----+--------------------+--------------------+\n",
            "only showing top 5 rows\n",
            "\n"
          ]
        }
      ]
    },
    {
      "cell_type": "code",
      "source": [
        "# convert sentences to list of words\n",
        "tokenizer = RegexTokenizer(inputCol=\"text\", outputCol=\"words\", pattern=\"\\\\W\")\n",
        "\n",
        "# adds a column 'words' to df after tokenization\n",
        "yelp_review_test = tokenizer.transform(yelp_review_test)\n",
        "\n",
        "yelp_review_test.select(['label','text', 'words']).show(5)"
      ],
      "metadata": {
        "colab": {
          "base_uri": "https://localhost:8080/"
        },
        "id": "94GfLN-qDch0",
        "outputId": "d6fa177b-3cd2-4216-beed-fcac3cba8aba"
      },
      "execution_count": null,
      "outputs": [
        {
          "output_type": "stream",
          "name": "stdout",
          "text": [
            "+-----+--------------------+--------------------+\n",
            "|label|                text|               words|\n",
            "+-----+--------------------+--------------------+\n",
            "|    4|The people that w...|[the, people, tha...|\n",
            "|    2|The boba drink wa...|[the, boba, drink...|\n",
            "|    2|My expectations m...|[my, expectations...|\n",
            "|    4|Very clean and co...|[very, clean, and...|\n",
            "|    4|One of my new fav...|[one, of, my, new...|\n",
            "+-----+--------------------+--------------------+\n",
            "only showing top 5 rows\n",
            "\n"
          ]
        }
      ]
    },
    {
      "cell_type": "code",
      "source": [
        "# to remove stop words like is, the, in, etc.\n",
        "stopwords_remover = StopWordsRemover(inputCol=\"words\", outputCol=\"filtered\")\n",
        "\n",
        "# adds a column 'filtered' to df without stopwords\n",
        "yelp_review_train = stopwords_remover.transform(yelp_review_train)\n",
        "\n",
        "yelp_review_train.select(['label','text', 'words', 'filtered']).show(5)\n"
      ],
      "metadata": {
        "colab": {
          "base_uri": "https://localhost:8080/"
        },
        "id": "GOogR--rLJve",
        "outputId": "62ea3fa2-b4be-4bc8-b425-5509bd8e8719"
      },
      "execution_count": null,
      "outputs": [
        {
          "output_type": "stream",
          "name": "stdout",
          "text": [
            "+-----+--------------------+--------------------+--------------------+\n",
            "|label|                text|               words|            filtered|\n",
            "+-----+--------------------+--------------------+--------------------+\n",
            "|    4|\"Great BBQ dinner...|[great, bbq, dinn...|[great, bbq, dinn...|\n",
            "|    1|FOLLOW UP :  The ...|[follow, up, the,...|[follow, guest, s...|\n",
            "|    0|Nothing positive ...|[nothing, positiv...|[nothing, positiv...|\n",
            "|    2|Ship-wrecked burg...|[ship, wrecked, b...|[ship, wrecked, b...|\n",
            "|    1|Ok, I changed my ...|[ok, i, changed, ...|[ok, changed, min...|\n",
            "+-----+--------------------+--------------------+--------------------+\n",
            "only showing top 5 rows\n",
            "\n"
          ]
        }
      ]
    },
    {
      "cell_type": "code",
      "source": [
        "# to remove stop words like is, the, in, etc.\n",
        "stopwords_remover = StopWordsRemover(inputCol=\"words\", outputCol=\"filtered\")\n",
        "\n",
        "# adds a column 'filtered' to df without stopwords\n",
        "yelp_review_test = stopwords_remover.transform(yelp_review_test)\n",
        "\n",
        "yelp_review_test.select(['label','text', 'words', 'filtered']).show(5)\n"
      ],
      "metadata": {
        "colab": {
          "base_uri": "https://localhost:8080/"
        },
        "id": "8w6r5d9JWKuZ",
        "outputId": "ec343479-ee17-48aa-9453-86a08a63f71c"
      },
      "execution_count": null,
      "outputs": [
        {
          "output_type": "stream",
          "name": "stdout",
          "text": [
            "+-----+--------------------+--------------------+--------------------+\n",
            "|label|                text|               words|            filtered|\n",
            "+-----+--------------------+--------------------+--------------------+\n",
            "|    4|The people that w...|[the, people, tha...|[people, work, am...|\n",
            "|    2|The boba drink wa...|[the, boba, drink...|[boba, drink, ter...|\n",
            "|    2|My expectations m...|[my, expectations...|[expectations, ma...|\n",
            "|    4|Very clean and co...|[very, clean, and...|[clean, comfortab...|\n",
            "|    4|One of my new fav...|[one, of, my, new...|[one, new, favori...|\n",
            "+-----+--------------------+--------------------+--------------------+\n",
            "only showing top 5 rows\n",
            "\n"
          ]
        }
      ]
    },
    {
      "cell_type": "code",
      "source": [
        "# Calculate term frequency in each article\n",
        "hashing_tf = HashingTF(inputCol=\"filtered\",\n",
        "                       outputCol=\"raw_features\",\n",
        "                       numFeatures=10000)\n",
        "\n",
        "# adds raw tf features to df\n",
        "featurized_data = hashing_tf.transform(yelp_review_train)"
      ],
      "metadata": {
        "id": "klYg7rrJWSnp"
      },
      "execution_count": null,
      "outputs": []
    },
    {
      "cell_type": "code",
      "source": [
        "# Calculate term frequency in each article\n",
        "hashing_tf2 = HashingTF(inputCol=\"filtered\",\n",
        "                       outputCol=\"raw_features\",\n",
        "                       numFeatures=10000)\n",
        "\n",
        "# adds raw tf features to df\n",
        "featurized_data2 = hashing_tf2.transform(yelp_review_test)"
      ],
      "metadata": {
        "id": "sXCCbc77Wd-q"
      },
      "execution_count": null,
      "outputs": []
    },
    {
      "cell_type": "code",
      "source": [
        "# Inverse document frequency\n",
        "idf = IDF(inputCol=\"raw_features\", outputCol=\"features\")\n",
        "\n",
        "idf_vectorizer = idf.fit(featurized_data)\n",
        "\n",
        "# converting text to vectors\n",
        "rescaled_data = idf_vectorizer.transform(featurized_data)\n",
        "\n",
        "# top 20 rows\n",
        "rescaled_data.select(\"label\",'text', 'words', 'filtered', \"features\").show()"
      ],
      "metadata": {
        "colab": {
          "base_uri": "https://localhost:8080/"
        },
        "id": "i5tdyo1XWhrn",
        "outputId": "621a674a-1efb-43f8-ba78-a8f5a9f107b4"
      },
      "execution_count": null,
      "outputs": [
        {
          "output_type": "stream",
          "name": "stdout",
          "text": [
            "+-----+--------------------+--------------------+--------------------+--------------------+\n",
            "|label|                text|               words|            filtered|            features|\n",
            "+-----+--------------------+--------------------+--------------------+--------------------+\n",
            "|    4|\"Great BBQ dinner...|[great, bbq, dinn...|[great, bbq, dinn...|(10000,[264,309,3...|\n",
            "|    1|FOLLOW UP :  The ...|[follow, up, the,...|[follow, guest, s...|(10000,[20,39,86,...|\n",
            "|    0|Nothing positive ...|[nothing, positiv...|[nothing, positiv...|(10000,[1,47,129,...|\n",
            "|    2|Ship-wrecked burg...|[ship, wrecked, b...|[ship, wrecked, b...|(10000,[750,2252,...|\n",
            "|    1|Ok, I changed my ...|[ok, i, changed, ...|[ok, changed, min...|(10000,[298,340,4...|\n",
            "|    3|lovely to look at...|[lovely, to, look...|[lovely, look, ac...|(10000,[47,524,62...|\n",
            "|    0|Want to pay a lot...|[want, to, pay, a...|[want, pay, lot, ...|(10000,[313,350,3...|\n",
            "|    0|\"Every time I wal...|[every, time, i, ...|[every, time, wal...|(10000,[80,141,20...|\n",
            "|    4|I've eaten at a l...|[i, ve, eaten, at...|[ve, eaten, lot, ...|(10000,[44,157,76...|\n",
            "|    1|Not impressed. To...|[not, impressed, ...|[impressed, took,...|(10000,[129,141,1...|\n",
            "|    3|Food and service ...|[food, and, servi...|[food, service, e...|(10000,[551,694,1...|\n",
            "|    3|I love this prome...|[i, love, this, p...|[love, promenade,...|(10000,[7,200,313...|\n",
            "|    0|Terrible service....|[terrible, servic...|[terrible, servic...|(10000,[129,281,5...|\n",
            "|    4|My go-to hotel in...|[my, go, to, hote...|[go, hotel, vegas...|(10000,[44,453,74...|\n",
            "|    2|On my morning wal...|[on, my, morning,...|[morning, walk, b...|(10000,[263,610,6...|\n",
            "|    3|\"Like many, the h...|[like, many, the,...|[like, many, hunt...|(10000,[44,87,234...|\n",
            "|    2|despite the half ...|[despite, the, ha...|[despite, half, d...|(10000,[158,281,6...|\n",
            "|    1|\"Daniel and I mus...|[daniel, and, i, ...|[daniel, must, ve...|(10000,[47,55,69,...|\n",
            "|    0|Well, here goes.....|[well, here, goes...|[well, goes, n, n...|(10000,[39,109,15...|\n",
            "|    0|\"My family and I ...|[my, family, and,...|[family, visited,...|(10000,[157,196,6...|\n",
            "+-----+--------------------+--------------------+--------------------+--------------------+\n",
            "only showing top 20 rows\n",
            "\n"
          ]
        }
      ]
    },
    {
      "cell_type": "code",
      "source": [
        "# Inverse document frequency\n",
        "idf2 = IDF(inputCol=\"raw_features\", outputCol=\"features\")\n",
        "\n",
        "idf_vectorizer2 = idf.fit(featurized_data2)\n",
        "\n",
        "# converting text to vectors\n",
        "rescaled_data2 = idf_vectorizer.transform(featurized_data2)\n",
        "\n",
        "# top 20 rows\n",
        "rescaled_data2.select(\"label\",'text', 'words', 'filtered', \"features\").show()"
      ],
      "metadata": {
        "colab": {
          "base_uri": "https://localhost:8080/"
        },
        "id": "m76ewsPRWqij",
        "outputId": "c33729ea-4bb1-478d-a285-3967d33d1bd1"
      },
      "execution_count": null,
      "outputs": [
        {
          "output_type": "stream",
          "name": "stdout",
          "text": [
            "+-----+--------------------+--------------------+--------------------+--------------------+\n",
            "|label|                text|               words|            filtered|            features|\n",
            "+-----+--------------------+--------------------+--------------------+--------------------+\n",
            "|    4|The people that w...|[the, people, tha...|[people, work, am...|(10000,[44,750,85...|\n",
            "|    2|The boba drink wa...|[the, boba, drink...|[boba, drink, ter...|(10000,[3434,3932...|\n",
            "|    2|My expectations m...|[my, expectations...|[expectations, ma...|(10000,[18,52,264...|\n",
            "|    4|Very clean and co...|[very, clean, and...|[clean, comfortab...|(10000,[494,763,1...|\n",
            "|    4|One of my new fav...|[one, of, my, new...|[one, new, favori...|(10000,[141,157,2...|\n",
            "|    2|This review is fo...|[this, review, is...|[review, weekend,...|(10000,[141,316,4...|\n",
            "|    4|Amazing happy hou...|[amazing, happy, ...|[amazing, happy, ...|(10000,[44,527,50...|\n",
            "|    0|Very expensive to...|[very, expensive,...|[expensive, touri...|(10000,[1304,1480...|\n",
            "|    2|\"Rolled up late a...|[rolled, up, late...|[rolled, late, af...|(10000,[129,274,5...|\n",
            "|    1|A/c broken tonigh...|[a, c, broken, to...|[c, broken, tonig...|(10000,[141,1041,...|\n",
            "|    3|i was only outsid...|[i, was, only, ou...|[outside, outside...|(10000,[349,1273,...|\n",
            "|    4|Pros: Friendly st...|[pros, friendly, ...|[pros, friendly, ...|(10000,[141,222,3...|\n",
            "|    1|We loved this pla...|[we, loved, this,...|[loved, place, ye...|(10000,[750,756,1...|\n",
            "|    0|\"HORRIBLE HORRIBL...|[horrible, horrib...|[horrible, horrib...|(10000,[55,110,15...|\n",
            "|    2|This casino is ni...|[this, casino, is...|[casino, nice, so...|(10000,[433,494,5...|\n",
            "|    0|We had a partial ...|[we, had, a, part...|[partial, lake, v...|(10000,[55,104,22...|\n",
            "|    3|Habanero burger f...|[habanero, burger...|[habanero, burger...|(10000,[438,567,1...|\n",
            "|    0|We had to put our...|[we, had, to, put...|[put, tables, tog...|(10000,[2,1307,13...|\n",
            "|    1|\"This show was ov...|[this, show, was,...|[show, overpriced...|(10000,[7,232,281...|\n",
            "|    0|\"I recently staye...|[i, recently, sta...|[recently, stayed...|(10000,[188,196,5...|\n",
            "+-----+--------------------+--------------------+--------------------+--------------------+\n",
            "only showing top 20 rows\n",
            "\n"
          ]
        }
      ]
    },
    {
      "cell_type": "code",
      "source": [
        "# Split Train/Test data\n",
        "(train, test) = rescaled_data.randomSplit([0.75, 0.25], seed = 202)\n",
        "print(\"Training Dataset Count: \" + str(train.count()))\n",
        "print(\"Test Dataset Count: \" + str(test.count()))\n",
        "\n"
      ],
      "metadata": {
        "colab": {
          "base_uri": "https://localhost:8080/"
        },
        "id": "t8TnmouCXI5j",
        "outputId": "af66ad7e-ae45-401d-d7a9-ea7c82379298"
      },
      "execution_count": null,
      "outputs": [
        {
          "output_type": "stream",
          "name": "stdout",
          "text": [
            "Training Dataset Count: 24341\n",
            "Test Dataset Count: 8159\n"
          ]
        }
      ]
    },
    {
      "cell_type": "code",
      "source": [
        "# Split Train/Test data\n",
        "(train2, test2) = rescaled_data2.randomSplit([0.75, 0.25], seed = 202)\n",
        "print(\"Training Dataset Count: \" + str(train2.count()))\n",
        "print(\"Test Dataset Count: \" + str(test2.count()))\n",
        "\n"
      ],
      "metadata": {
        "colab": {
          "base_uri": "https://localhost:8080/"
        },
        "id": "U7rAAAIHXFmV",
        "outputId": "27716e9c-e368-48af-a528-8e7e7f6bd414"
      },
      "execution_count": null,
      "outputs": [
        {
          "output_type": "stream",
          "name": "stdout",
          "text": [
            "Training Dataset Count: 3749\n",
            "Test Dataset Count: 1251\n"
          ]
        }
      ]
    },
    {
      "cell_type": "code",
      "source": [
        "\n",
        "df_train = rescaled_data.withColumn(\"label\",col(\"label\").cast(IntegerType()))\n",
        "df_test = rescaled_data.withColumn(\"label\",col(\"label\").cast(IntegerType()))\n",
        "df_train2 = rescaled_data2.withColumn(\"label\",col(\"label\").cast(IntegerType()))\n",
        "df_test2 = rescaled_data2.withColumn(\"label\",col(\"label\").cast(IntegerType()))\n",
        "\n",
        "df_train.printSchema()\n",
        "df_train2.printSchema()\n",
        "df_test.printSchema()\n",
        "df_test2.printSchema()"
      ],
      "metadata": {
        "colab": {
          "base_uri": "https://localhost:8080/"
        },
        "id": "V_q1w7Ury3Go",
        "outputId": "d785614c-20f6-4c81-987c-4bf1d4f4a15e"
      },
      "execution_count": null,
      "outputs": [
        {
          "output_type": "stream",
          "name": "stdout",
          "text": [
            "root\n",
            " |-- id: string (nullable = true)\n",
            " |-- label: integer (nullable = true)\n",
            " |-- text: string (nullable = true)\n",
            " |-- words: array (nullable = true)\n",
            " |    |-- element: string (containsNull = true)\n",
            " |-- filtered: array (nullable = true)\n",
            " |    |-- element: string (containsNull = true)\n",
            " |-- raw_features: vector (nullable = true)\n",
            " |-- features: vector (nullable = true)\n",
            "\n",
            "root\n",
            " |-- id: string (nullable = true)\n",
            " |-- label: integer (nullable = true)\n",
            " |-- text: string (nullable = true)\n",
            " |-- words: array (nullable = true)\n",
            " |    |-- element: string (containsNull = true)\n",
            " |-- filtered: array (nullable = true)\n",
            " |    |-- element: string (containsNull = true)\n",
            " |-- raw_features: vector (nullable = true)\n",
            " |-- features: vector (nullable = true)\n",
            "\n",
            "root\n",
            " |-- id: string (nullable = true)\n",
            " |-- label: integer (nullable = true)\n",
            " |-- text: string (nullable = true)\n",
            " |-- words: array (nullable = true)\n",
            " |    |-- element: string (containsNull = true)\n",
            " |-- filtered: array (nullable = true)\n",
            " |    |-- element: string (containsNull = true)\n",
            " |-- raw_features: vector (nullable = true)\n",
            " |-- features: vector (nullable = true)\n",
            "\n",
            "root\n",
            " |-- id: string (nullable = true)\n",
            " |-- label: integer (nullable = true)\n",
            " |-- text: string (nullable = true)\n",
            " |-- words: array (nullable = true)\n",
            " |    |-- element: string (containsNull = true)\n",
            " |-- filtered: array (nullable = true)\n",
            " |    |-- element: string (containsNull = true)\n",
            " |-- raw_features: vector (nullable = true)\n",
            " |-- features: vector (nullable = true)\n",
            "\n"
          ]
        }
      ]
    },
    {
      "cell_type": "code",
      "source": [
        "# model object\n",
        "lr = LogisticRegression(featuresCol='features',\n",
        "                        labelCol='label',\n",
        "                        family=\"multinomial\",\n",
        "                        regParam=0.3,\n",
        "                        elasticNetParam=0,\n",
        "                        maxIter=50)\n",
        "\n",
        "# train model with default parameters\n",
        "lrModel = lr.fit(df_train)\n",
        "\n",
        "# get predictions for test set\n",
        "predictions = lrModel.transform(df_test)\n",
        "\n",
        "# show top 20 predictions\n",
        "predictions.select(\"text\", 'probability','prediction', 'label').show()"
      ],
      "metadata": {
        "colab": {
          "base_uri": "https://localhost:8080/"
        },
        "id": "37rF9J2uXhDU",
        "outputId": "5e6106a8-eafd-4647-e606-d0506cddc65d"
      },
      "execution_count": null,
      "outputs": [
        {
          "output_type": "stream",
          "name": "stdout",
          "text": [
            "+--------------------+--------------------+----------+-----+\n",
            "|                text|         probability|prediction|label|\n",
            "+--------------------+--------------------+----------+-----+\n",
            "|\"Great BBQ dinner...|[0.09643563504794...|       4.0|    4|\n",
            "|FOLLOW UP :  The ...|[0.18797877168501...|       1.0|    1|\n",
            "|Nothing positive ...|[0.66438092836703...|       0.0|    0|\n",
            "|Ship-wrecked burg...|[0.24693579857036...|       2.0|    2|\n",
            "|Ok, I changed my ...|[0.11064982230780...|       1.0|    1|\n",
            "|lovely to look at...|[0.17183269314135...|       2.0|    3|\n",
            "|Want to pay a lot...|[0.26037093786738...|       0.0|    0|\n",
            "|\"Every time I wal...|[0.75771788317918...|       0.0|    0|\n",
            "|I've eaten at a l...|[0.07282811955363...|       4.0|    4|\n",
            "|Not impressed. To...|[0.24614103934600...|       1.0|    1|\n",
            "|Food and service ...|[0.13260302771194...|       4.0|    3|\n",
            "|I love this prome...|[0.08443308448397...|       3.0|    3|\n",
            "|Terrible service....|[0.43754837244983...|       0.0|    0|\n",
            "|My go-to hotel in...|[0.03874481562443...|       4.0|    4|\n",
            "|On my morning wal...|[0.33465604852535...|       0.0|    2|\n",
            "|\"Like many, the h...|[0.01735562306143...|       4.0|    3|\n",
            "|despite the half ...|[0.16582521116770...|       4.0|    2|\n",
            "|\"Daniel and I mus...|[0.24716175803546...|       1.0|    1|\n",
            "|Well, here goes.....|[0.60565312707138...|       0.0|    0|\n",
            "|\"My family and I ...|[0.36106750745703...|       1.0|    0|\n",
            "+--------------------+--------------------+----------+-----+\n",
            "only showing top 20 rows\n",
            "\n"
          ]
        }
      ]
    },
    {
      "cell_type": "code",
      "source": [
        "# model object\n",
        "lr2 = LogisticRegression(featuresCol='features',\n",
        "                        labelCol='label',\n",
        "                        family=\"multinomial\",\n",
        "                        regParam=0.3,\n",
        "                        elasticNetParam=0,\n",
        "                        maxIter=50)\n",
        "\n",
        "# train model with default parameters\n",
        "lrModel2 = lr2.fit(df_train2)\n",
        "\n",
        "# get predictions for test set\n",
        "predictions2 = lrModel2.transform(df_test2)\n",
        "\n",
        "# show top 20 predictions\n",
        "predictions2.select(\"text\", 'probability','prediction', 'label').show()"
      ],
      "metadata": {
        "colab": {
          "base_uri": "https://localhost:8080/"
        },
        "id": "byh7mskb6zg_",
        "outputId": "259de782-c4a0-4ebd-c0f8-66a74dd8e408"
      },
      "execution_count": null,
      "outputs": [
        {
          "output_type": "stream",
          "name": "stdout",
          "text": [
            "+--------------------+--------------------+----------+-----+\n",
            "|                text|         probability|prediction|label|\n",
            "+--------------------+--------------------+----------+-----+\n",
            "|The people that w...|[0.14750830007125...|       4.0|    4|\n",
            "|The boba drink wa...|[0.20798139083838...|       4.0|    2|\n",
            "|My expectations m...|[0.02096261230174...|       2.0|    2|\n",
            "|Very clean and co...|[0.06018103162377...|       4.0|    4|\n",
            "|One of my new fav...|[0.01349105679400...|       4.0|    4|\n",
            "|This review is fo...|[0.00559528913876...|       2.0|    2|\n",
            "|Amazing happy hou...|[0.15291499777058...|       4.0|    4|\n",
            "|Very expensive to...|[0.23766767545945...|       1.0|    0|\n",
            "|\"Rolled up late a...|[0.14461681133672...|       2.0|    2|\n",
            "|A/c broken tonigh...|[0.15802384681572...|       1.0|    1|\n",
            "|i was only outsid...|[0.09587546373416...|       2.0|    3|\n",
            "|Pros: Friendly st...|[0.03229002467529...|       4.0|    4|\n",
            "|We loved this pla...|[0.16953834461353...|       4.0|    1|\n",
            "|\"HORRIBLE HORRIBL...|[0.81066857205871...|       0.0|    0|\n",
            "|This casino is ni...|[0.06019068550900...|       2.0|    2|\n",
            "|We had a partial ...|[0.80985768250952...|       0.0|    0|\n",
            "|Habanero burger f...|[0.06722785639216...|       3.0|    3|\n",
            "|We had to put our...|[0.41036038968010...|       0.0|    0|\n",
            "|\"This show was ov...|[0.04292449319713...|       1.0|    1|\n",
            "|\"I recently staye...|[0.86816059226948...|       0.0|    0|\n",
            "+--------------------+--------------------+----------+-----+\n",
            "only showing top 20 rows\n",
            "\n"
          ]
        }
      ]
    },
    {
      "cell_type": "code",
      "source": [
        "# to evalute model\n",
        "evaluator = MulticlassClassificationEvaluator(predictionCol=\"prediction\")\n",
        "\n",
        "# print test accuracy\n",
        "print(\"Test-set Accuracy is : \", evaluator.evaluate(predictions))\n",
        "\n"
      ],
      "metadata": {
        "colab": {
          "base_uri": "https://localhost:8080/"
        },
        "id": "vJxRCRaQtlxa",
        "outputId": "4b8505f2-4c19-48db-e429-145c6e04adcb"
      },
      "execution_count": null,
      "outputs": [
        {
          "output_type": "stream",
          "name": "stdout",
          "text": [
            "Test-set Accuracy is :  0.7394356643992198\n"
          ]
        }
      ]
    },
    {
      "cell_type": "code",
      "source": [
        "# to evalute model\n",
        "evaluator2 = MulticlassClassificationEvaluator(predictionCol=\"prediction\")\n",
        "\n",
        "# print test accuracy\n",
        "print(\"Test-set Accuracy is : \", evaluator.evaluate(predictions2))\n"
      ],
      "metadata": {
        "colab": {
          "base_uri": "https://localhost:8080/"
        },
        "id": "lH2lYOaD7rlY",
        "outputId": "4cd8a862-fffb-49eb-f7a6-2d7d835587d2"
      },
      "execution_count": null,
      "outputs": [
        {
          "output_type": "stream",
          "name": "stdout",
          "text": [
            "Test-set Accuracy is :  0.9567827084278211\n"
          ]
        }
      ]
    },
    {
      "cell_type": "code",
      "source": [
        "#Pipeline Approach\n",
        "# Select new text feature and labels\n",
        "yelp_review_train = yelp_review_train.select('label', 'text')\n",
        "yelp_review_test = yelp_review_test.select('label', 'text')\n",
        "\n",
        "# tokenizer\n",
        "tokenizer = RegexTokenizer(inputCol=\"text\", outputCol=\"words\", pattern=\"\\\\W\")\n",
        "\n",
        "# stopwords\n",
        "stopwords_remover = StopWordsRemover(inputCol=\"words\", outputCol=\"filtered\")\n",
        "\n",
        "# term frequency\n",
        "hashing_tf = HashingTF(inputCol=\"filtered\",\n",
        "                       outputCol=\"raw_features\",\n",
        "                       numFeatures=10000)\n",
        "\n",
        "# Inverse Document Frequency - vectorizer\n",
        "idf = IDF(inputCol=\"raw_features\", outputCol=\"features\")\n",
        "\n",
        "df_train3 = yelp_review_train.withColumn(\"label\",col(\"label\").cast(IntegerType()))\n",
        "df_test3 = yelp_review_test.withColumn(\"label\",col(\"label\").cast(IntegerType()))\n",
        "df_train3.printSchema()\n",
        "df_test3.printSchema()\n"
      ],
      "metadata": {
        "colab": {
          "base_uri": "https://localhost:8080/"
        },
        "id": "0z9IaTAhtqPK",
        "outputId": "ddb375fb-e3c8-48b8-de8c-dc77da9840ad"
      },
      "execution_count": null,
      "outputs": [
        {
          "output_type": "stream",
          "name": "stdout",
          "text": [
            "root\n",
            " |-- label: integer (nullable = true)\n",
            " |-- text: string (nullable = true)\n",
            "\n",
            "root\n",
            " |-- label: integer (nullable = true)\n",
            " |-- text: string (nullable = true)\n",
            "\n"
          ]
        }
      ]
    },
    {
      "cell_type": "code",
      "source": [
        "# model\n",
        "lr3 = LogisticRegression(featuresCol='features',\n",
        "                        labelCol='label',\n",
        "                        family=\"multinomial\",\n",
        "                        regParam=0.3,\n",
        "                        elasticNetParam=0,\n",
        "                        maxIter=50)\n",
        "\n",
        "# model\n",
        "lr4 = LogisticRegression(featuresCol='features',\n",
        "                        labelCol='label',\n",
        "                        family=\"multinomial\",\n",
        "                        regParam=0.3,\n",
        "                        elasticNetParam=0,\n",
        "                        maxIter=50)"
      ],
      "metadata": {
        "id": "219jzdql3kqE"
      },
      "execution_count": null,
      "outputs": []
    },
    {
      "cell_type": "code",
      "source": [
        "\n",
        "# Put everything in pipeline\n",
        "pipeline = Pipeline(stages=[tokenizer,\n",
        "                            stopwords_remover,\n",
        "                            hashing_tf,\n",
        "                            idf,\n",
        "                            lr])\n",
        "\n",
        "# Fit the pipeline to training documents\n",
        "pipelineFit = pipeline.fit(df_train3)\n",
        "\n",
        "# transform add train\n",
        "train_dataset = pipelineFit.transform(df_train3)\n",
        "\n",
        "# show top 10 predictions\n",
        "train_dataset.show(10)\n",
        "\n",
        "\n",
        "# Put everything in pipeline\n",
        "pipeline2 = Pipeline(stages=[tokenizer,\n",
        "                            stopwords_remover,\n",
        "                            hashing_tf,\n",
        "                            idf,\n",
        "                            lr])\n",
        "\n",
        "# Fit the pipeline to training documents.\n",
        "pipelineFit2 = pipeline2.fit(df_test3)\n",
        "\n",
        "# transform add train\n",
        "test_dataset = pipelineFit2.transform(df_test3)\n",
        "\n",
        "# show top 10 predictions\n",
        "test_dataset.show(10)"
      ],
      "metadata": {
        "colab": {
          "base_uri": "https://localhost:8080/"
        },
        "id": "z9fiTEGo3n4F",
        "outputId": "fd95cae2-5a5b-46b5-8334-9f1347c48978"
      },
      "execution_count": null,
      "outputs": [
        {
          "output_type": "stream",
          "name": "stdout",
          "text": [
            "+-----+--------------------+--------------------+--------------------+--------------------+--------------------+--------------------+--------------------+----------+\n",
            "|label|                text|               words|            filtered|        raw_features|            features|       rawPrediction|         probability|prediction|\n",
            "+-----+--------------------+--------------------+--------------------+--------------------+--------------------+--------------------+--------------------+----------+\n",
            "|    4|\"Great BBQ dinner...|[great, bbq, dinn...|[great, bbq, dinn...|(10000,[264,309,3...|(10000,[264,309,3...|[-0.5784785605926...|[0.09643563504794...|       4.0|\n",
            "|    1|FOLLOW UP :  The ...|[follow, up, the,...|[follow, guest, s...|(10000,[20,39,86,...|(10000,[20,39,86,...|[1.92233080491253...|[0.18797877168501...|       1.0|\n",
            "|    0|Nothing positive ...|[nothing, positiv...|[nothing, positiv...|(10000,[1,47,129,...|(10000,[1,47,129,...|[2.08542813202120...|[0.66438092836703...|       0.0|\n",
            "|    2|Ship-wrecked burg...|[ship, wrecked, b...|[ship, wrecked, b...|(10000,[750,2252,...|(10000,[750,2252,...|[0.23841107287677...|[0.24693579857036...|       2.0|\n",
            "|    1|Ok, I changed my ...|[ok, i, changed, ...|[ok, changed, min...|(10000,[298,340,4...|(10000,[298,340,4...|[-0.4769902375500...|[0.11064982230780...|       1.0|\n",
            "|    3|lovely to look at...|[lovely, to, look...|[lovely, look, ac...|(10000,[47,524,62...|(10000,[47,524,62...|[-0.1484449801674...|[0.17183269314135...|       2.0|\n",
            "|    0|Want to pay a lot...|[want, to, pay, a...|[want, pay, lot, ...|(10000,[313,350,3...|(10000,[313,350,3...|[0.28547006971759...|[0.26037093786738...|       0.0|\n",
            "|    0|\"Every time I wal...|[every, time, i, ...|[every, time, wal...|(10000,[80,141,20...|(10000,[80,141,20...|[2.77362490546922...|[0.75771788317918...|       0.0|\n",
            "|    4|I've eaten at a l...|[i, ve, eaten, at...|[ve, eaten, lot, ...|(10000,[44,157,76...|(10000,[44,157,76...|[-0.4818571274397...|[0.07282811955363...|       4.0|\n",
            "|    1|Not impressed. To...|[not, impressed, ...|[impressed, took,...|(10000,[129,141,1...|(10000,[129,141,1...|[0.23882234085601...|[0.24614103934600...|       1.0|\n",
            "+-----+--------------------+--------------------+--------------------+--------------------+--------------------+--------------------+--------------------+----------+\n",
            "only showing top 10 rows\n",
            "\n",
            "+-----+--------------------+--------------------+--------------------+--------------------+--------------------+--------------------+--------------------+----------+\n",
            "|label|                text|               words|            filtered|        raw_features|            features|       rawPrediction|         probability|prediction|\n",
            "+-----+--------------------+--------------------+--------------------+--------------------+--------------------+--------------------+--------------------+----------+\n",
            "|    4|The people that w...|[the, people, tha...|[people, work, am...|(10000,[44,750,85...|(10000,[44,750,85...|[-0.2183507524351...|[0.14750830007098...|       4.0|\n",
            "|    2|The boba drink wa...|[the, boba, drink...|[boba, drink, ter...|(10000,[3434,3932...|(10000,[3434,3932...|[0.04620429961328...|[0.20798139083820...|       4.0|\n",
            "|    2|My expectations m...|[my, expectations...|[expectations, ma...|(10000,[18,52,264...|(10000,[18,52,264...|[-1.5260977099736...|[0.02096261230153...|       2.0|\n",
            "|    4|Very clean and co...|[very, clean, and...|[clean, comfortab...|(10000,[494,763,1...|(10000,[494,763,1...|[-0.7425205928637...|[0.06018103162366...|       4.0|\n",
            "|    4|One of my new fav...|[one, of, my, new...|[one, new, favori...|(10000,[141,157,2...|(10000,[141,157,2...|[-1.9942875533197...|[0.01349105679395...|       4.0|\n",
            "|    2|This review is fo...|[this, review, is...|[review, weekend,...|(10000,[141,316,4...|(10000,[141,316,4...|[-2.3236492131944...|[0.00559528913869...|       2.0|\n",
            "|    4|Amazing happy hou...|[amazing, happy, ...|[amazing, happy, ...|(10000,[44,527,50...|(10000,[44,527,50...|[-0.1875670454418...|[0.15291499777026...|       4.0|\n",
            "|    0|Very expensive to...|[very, expensive,...|[expensive, touri...|(10000,[1304,1480...|(10000,[1304,1480...|[0.20039655937814...|[0.23766767545996...|       1.0|\n",
            "|    2|\"Rolled up late a...|[rolled, up, late...|[rolled, late, af...|(10000,[129,274,5...|(10000,[129,274,5...|[-0.0153196805202...|[0.14461681133618...|       2.0|\n",
            "|    1|A/c broken tonigh...|[a, c, broken, to...|[c, broken, tonig...|(10000,[141,1041,...|(10000,[141,1041,...|[0.25784034626477...|[0.15802384681409...|       1.0|\n",
            "+-----+--------------------+--------------------+--------------------+--------------------+--------------------+--------------------+--------------------+----------+\n",
            "only showing top 10 rows\n",
            "\n"
          ]
        }
      ]
    },
    {
      "cell_type": "code",
      "source": [
        "labels = [\"label\", \"text\", \"word\", \"filtered\"]\n",
        "\n",
        "# important: need to cast to float type, and order by prediction, else it won't work\n",
        "preds_and_labels = predictions.select(['prediction','label']) \\\n",
        "                              .withColumn('label', col('label') \\\n",
        "                              .cast(FloatType())) \\\n",
        "                              .orderBy('prediction')\n",
        "# generate metrics\n",
        "metrics = MulticlassMetrics(preds_and_labels.rdd.map(tuple))\n",
        "\n",
        "# figure object\n",
        "_ = plt.figure(figsize=(7, 7))\n",
        "\n",
        "# plot confusion matrix\n",
        "sns.heatmap(metrics.confusionMatrix().toArray(),\n",
        "            cmap='viridis',\n",
        "            annot=True,fmt='0',\n",
        "            cbar=False,\n",
        "            xticklabels=labels,\n",
        "            yticklabels=labels)\n",
        "plt.show()"
      ],
      "metadata": {
        "colab": {
          "base_uri": "https://localhost:8080/",
          "height": 599
        },
        "id": "JoObHS-B8z4e",
        "outputId": "98eaf321-5004-4c37-dc9c-11e51b8fc6d7"
      },
      "execution_count": null,
      "outputs": [
        {
          "output_type": "display_data",
          "data": {
            "text/plain": [
              "<Figure size 700x700 with 1 Axes>"
            ],
            "image/png": "[encoded data removed]"
          },
          "metadata": {}
        }
      ]
    },
    {
      "cell_type": "markdown",
      "source": [],
      "metadata": {
        "id": "sojwrIJ5yTPU"
      }
    },
    {
      "cell_type": "code",
      "source": [
        "# Split Train/Test data 30K\n",
        "(train5, test5) = rescaled_data.randomSplit([0.93, 0.07], seed= 2000)\n",
        "print(\"Training Dataset Count: \" + str(train5.count()))\n",
        "print(\"Test Dataset Count: \" + str(test5.count()))"
      ],
      "metadata": {
        "colab": {
          "base_uri": "https://localhost:8080/"
        },
        "id": "swxVru8Nx2uR",
        "outputId": "a4f4d913-fd3a-4791-a948-50fadbd57071"
      },
      "execution_count": null,
      "outputs": [
        {
          "output_type": "stream",
          "name": "stdout",
          "text": [
            "Training Dataset Count: 30242\n",
            "Test Dataset Count: 2258\n"
          ]
        }
      ]
    },
    {
      "cell_type": "code",
      "source": [
        "\n",
        "df_train5 = train5.withColumn(\"label\",col(\"label\").cast(IntegerType()))\n",
        "df_test5 = test5.withColumn(\"label\",col(\"label\").cast(IntegerType()))\n",
        "\n",
        "\n",
        "df_train5.printSchema()\n",
        "df_test5.printSchema()\n"
      ],
      "metadata": {
        "id": "xPhG88kGHHCV",
        "colab": {
          "base_uri": "https://localhost:8080/"
        },
        "outputId": "2e5c9af7-0f23-4d2e-9738-994a98e9ed5c"
      },
      "execution_count": null,
      "outputs": [
        {
          "output_type": "stream",
          "name": "stdout",
          "text": [
            "root\n",
            " |-- id: string (nullable = true)\n",
            " |-- label: integer (nullable = true)\n",
            " |-- text: string (nullable = true)\n",
            " |-- words: array (nullable = true)\n",
            " |    |-- element: string (containsNull = true)\n",
            " |-- filtered: array (nullable = true)\n",
            " |    |-- element: string (containsNull = true)\n",
            " |-- raw_features: vector (nullable = true)\n",
            " |-- features: vector (nullable = true)\n",
            "\n",
            "root\n",
            " |-- id: string (nullable = true)\n",
            " |-- label: integer (nullable = true)\n",
            " |-- text: string (nullable = true)\n",
            " |-- words: array (nullable = true)\n",
            " |    |-- element: string (containsNull = true)\n",
            " |-- filtered: array (nullable = true)\n",
            " |    |-- element: string (containsNull = true)\n",
            " |-- raw_features: vector (nullable = true)\n",
            " |-- features: vector (nullable = true)\n",
            "\n"
          ]
        }
      ]
    },
    {
      "cell_type": "code",
      "source": [
        "# model object\n",
        "lr5 = LogisticRegression(featuresCol='features',\n",
        "                        labelCol='label',\n",
        "                        family=\"multinomial\",\n",
        "                        regParam=0.3,\n",
        "                        elasticNetParam=0,\n",
        "                        maxIter=50)\n",
        "\n",
        "# train model with default parameters\n",
        "lrModel5 = lr5.fit(df_train5)\n",
        "\n",
        "# get predictions for test set\n",
        "predictions5 = lrModel5.transform(df_test5)\n",
        "\n",
        "# show top 20 predictions\n",
        "predictions5.select(\"text\", 'probability','prediction', 'label').show()"
      ],
      "metadata": {
        "id": "Qbs1JWe3G7Ao",
        "colab": {
          "base_uri": "https://localhost:8080/"
        },
        "outputId": "344bc2e4-7672-4d6e-a30d-1d79eeccb779"
      },
      "execution_count": null,
      "outputs": [
        {
          "output_type": "stream",
          "name": "stdout",
          "text": [
            "+--------------------+--------------------+----------+-----+\n",
            "|                text|         probability|prediction|label|\n",
            "+--------------------+--------------------+----------+-----+\n",
            "|Went for lunch. I...|[0.28370399576255...|       0.0|    0|\n",
            "|Indeed one of the...|[0.12218237297509...|       4.0|    3|\n",
            "|This was the wors...|[0.63659483451377...|       0.0|    1|\n",
            "|\"This McDonald's ...|[0.28540315068069...|       0.0|    0|\n",
            "|$8 for a tiny san...|[0.24565785509163...|       1.0|    0|\n",
            "|Long Wongs is a g...|[0.08766939593100...|       2.0|    2|\n",
            "|Ventured to Los O...|[0.04031256232374...|       2.0|    2|\n",
            "|Okay, so I have a...|[0.02149752569682...|       4.0|    4|\n",
            "|I read some great...|[0.15516346748264...|       4.0|    3|\n",
            "|The people in the...|[0.23091597246174...|       3.0|    3|\n",
            "|I dont mind drift...|[0.00701051936351...|       2.0|    2|\n",
            "|Different kind of...|[0.07713956023174...|       2.0|    4|\n",
            "|\"So, this place i...|[0.04876853138716...|       2.0|    1|\n",
            "|I've stopped in t...|[0.17965672138478...|       2.0|    0|\n",
            "|\"Alright folks......|[0.15398782614228...|       1.0|    1|\n",
            "|\"Last night I dec...|[0.23024227277498...|       3.0|    3|\n",
            "|This is on of the...|[0.37612551873875...|       0.0|    0|\n",
            "|I love this place...|[0.16709644434765...|       4.0|    3|\n",
            "|I went there for ...|[0.15135868537227...|       3.0|    3|\n",
            "|Yum & cool. Zucch...|[0.08373379611916...|       4.0|    3|\n",
            "+--------------------+--------------------+----------+-----+\n",
            "only showing top 20 rows\n",
            "\n"
          ]
        }
      ]
    },
    {
      "cell_type": "code",
      "source": [
        "# to evalute model\n",
        "evaluator5 = MulticlassClassificationEvaluator(predictionCol=\"prediction\")\n",
        "\n",
        "# print test accuracy\n",
        "print(\"Test-set Accuracy is : \", evaluator5.evaluate(predictions5))"
      ],
      "metadata": {
        "id": "OVP7VLVuHUwq",
        "colab": {
          "base_uri": "https://localhost:8080/"
        },
        "outputId": "9328929a-d0f4-4461-9d06-3123f2bb8660"
      },
      "execution_count": null,
      "outputs": [
        {
          "output_type": "stream",
          "name": "stdout",
          "text": [
            "Test-set Accuracy is :  0.4937826506964701\n"
          ]
        }
      ]
    },
    {
      "cell_type": "code",
      "source": [
        "# Split Train/Test data 25K\n",
        "(train6, test6) = rescaled_data.randomSplit([0.77, 0.23], seed= 2000)\n",
        "print(\"Training Dataset Count: \" + str(train6.count()))\n",
        "print(\"Test Dataset Count: \" + str(test6.count()))"
      ],
      "metadata": {
        "colab": {
          "base_uri": "https://localhost:8080/"
        },
        "id": "h47k0KoAzNKn",
        "outputId": "899308b1-b2a4-4398-bcf1-47389720c9de"
      },
      "execution_count": null,
      "outputs": [
        {
          "output_type": "stream",
          "name": "stdout",
          "text": [
            "Training Dataset Count: 25137\n",
            "Test Dataset Count: 7363\n"
          ]
        }
      ]
    },
    {
      "cell_type": "code",
      "source": [
        "df_train6 = train6.withColumn(\"label\",col(\"label\").cast(IntegerType()))\n",
        "df_test6 = test6.withColumn(\"label\",col(\"label\").cast(IntegerType()))\n",
        "\n",
        "\n",
        "df_train6.printSchema()\n",
        "df_test6.printSchema()"
      ],
      "metadata": {
        "colab": {
          "base_uri": "https://localhost:8080/"
        },
        "id": "T7d5zrZuzvr9",
        "outputId": "0706ce56-d18f-4f6e-c109-1a61cc959ed1"
      },
      "execution_count": null,
      "outputs": [
        {
          "output_type": "stream",
          "name": "stdout",
          "text": [
            "root\n",
            " |-- id: string (nullable = true)\n",
            " |-- label: integer (nullable = true)\n",
            " |-- text: string (nullable = true)\n",
            " |-- words: array (nullable = true)\n",
            " |    |-- element: string (containsNull = true)\n",
            " |-- filtered: array (nullable = true)\n",
            " |    |-- element: string (containsNull = true)\n",
            " |-- raw_features: vector (nullable = true)\n",
            " |-- features: vector (nullable = true)\n",
            "\n",
            "root\n",
            " |-- id: string (nullable = true)\n",
            " |-- label: integer (nullable = true)\n",
            " |-- text: string (nullable = true)\n",
            " |-- words: array (nullable = true)\n",
            " |    |-- element: string (containsNull = true)\n",
            " |-- filtered: array (nullable = true)\n",
            " |    |-- element: string (containsNull = true)\n",
            " |-- raw_features: vector (nullable = true)\n",
            " |-- features: vector (nullable = true)\n",
            "\n"
          ]
        }
      ]
    },
    {
      "cell_type": "code",
      "source": [
        "# model object\n",
        "lr6 = LogisticRegression(featuresCol='features',\n",
        "                        labelCol='label',\n",
        "                        family=\"multinomial\",\n",
        "                        regParam=0.3,\n",
        "                        elasticNetParam=0,\n",
        "                        maxIter=50)\n",
        "\n",
        "# train model with default parameters\n",
        "lrModel6 = lr6.fit(df_train6)\n",
        "\n",
        "# get predictions for test set\n",
        "predictions6 = lrModel6.transform(df_test6)\n",
        "\n",
        "# show top 20 predictions\n",
        "predictions6.select(\"text\", 'probability','prediction', 'label').show()"
      ],
      "metadata": {
        "colab": {
          "base_uri": "https://localhost:8080/"
        },
        "id": "Ar-uaIkZz8JJ",
        "outputId": "7722cc42-b9a8-4914-a029-7f041b83fc47"
      },
      "execution_count": null,
      "outputs": [
        {
          "output_type": "stream",
          "name": "stdout",
          "text": [
            "+--------------------+--------------------+----------+-----+\n",
            "|                text|         probability|prediction|label|\n",
            "+--------------------+--------------------+----------+-----+\n",
            "|didn't they close...|[0.39213368710039...|       0.0|    0|\n",
            "|Went for lunch. I...|[0.28020707328567...|       0.0|    0|\n",
            "|\"My family and I ...|[0.17214507260511...|       1.0|    2|\n",
            "|Boyfriend & I wer...|[0.50427773923365...|       0.0|    0|\n",
            "|The Orange Table ...|[0.04158637751851...|       3.0|    4|\n",
            "|Indeed one of the...|[0.12994437580252...|       4.0|    3|\n",
            "|Okay, sorry guys....|[0.24173092024796...|       1.0|    1|\n",
            "|I used to love th...|[0.20905446359490...|       1.0|    2|\n",
            "|This was the wors...|[0.63039431896144...|       0.0|    1|\n",
            "|Six always ends m...|[0.05137298214854...|       2.0|    4|\n",
            "|This place is cra...|[0.04938023443347...|       4.0|    3|\n",
            "|\"The staff was be...|[0.24983239899728...|       1.0|    0|\n",
            "|\"This McDonald's ...|[0.28515941588851...|       0.0|    0|\n",
            "|$8 for a tiny san...|[0.23419039169778...|       1.0|    0|\n",
            "|\"Did the Phoenici...|[0.77295569138387...|       0.0|    2|\n",
            "|Long Wongs is a g...|[0.09956286055401...|       2.0|    2|\n",
            "|Ventured to Los O...|[0.05103750392524...|       2.0|    2|\n",
            "|\"Came here on a S...|[0.27683966443842...|       0.0|    2|\n",
            "|This is my favori...|[0.10369132886580...|       4.0|    4|\n",
            "|Delicious chopped...|[0.06042466538220...|       3.0|    3|\n",
            "+--------------------+--------------------+----------+-----+\n",
            "only showing top 20 rows\n",
            "\n"
          ]
        }
      ]
    },
    {
      "cell_type": "code",
      "source": [
        "# to evalute model\n",
        "evaluator6 = MulticlassClassificationEvaluator(predictionCol=\"prediction\")\n",
        "\n",
        "# print test accuracy\n",
        "print(\"Test-set Accuracy is : \", evaluator6.evaluate(predictions6))"
      ],
      "metadata": {
        "colab": {
          "base_uri": "https://localhost:8080/"
        },
        "id": "JoPCU0AX0ZDE",
        "outputId": "d18eb9c1-0662-4d74-e2bb-26a6ea6c88a9"
      },
      "execution_count": null,
      "outputs": [
        {
          "output_type": "stream",
          "name": "stdout",
          "text": [
            "Test-set Accuracy is :  0.49089448741318975\n"
          ]
        }
      ]
    },
    {
      "cell_type": "code",
      "source": [
        "# Split Train/Test data 20K\n",
        "(train7, test7) = rescaled_data.randomSplit([0.62, 0.38], seed= 2000)\n",
        "print(\"Training Dataset Count: \" + str(train7.count()))\n",
        "print(\"Test Dataset Count: \" + str(test7.count()))"
      ],
      "metadata": {
        "colab": {
          "base_uri": "https://localhost:8080/"
        },
        "id": "ghgy-TIg1LpX",
        "outputId": "b295e247-a018-4539-f5e0-4d8126a3bc2f"
      },
      "execution_count": null,
      "outputs": [
        {
          "output_type": "stream",
          "name": "stdout",
          "text": [
            "Training Dataset Count: 20271\n",
            "Test Dataset Count: 12229\n"
          ]
        }
      ]
    },
    {
      "cell_type": "code",
      "source": [
        "df_train7 = train7.withColumn(\"label\",col(\"label\").cast(IntegerType()))\n",
        "df_test7 = test7.withColumn(\"label\",col(\"label\").cast(IntegerType()))\n",
        "\n",
        "\n",
        "df_train7.printSchema()\n",
        "df_test7.printSchema()"
      ],
      "metadata": {
        "colab": {
          "base_uri": "https://localhost:8080/"
        },
        "id": "i125gGIf1myv",
        "outputId": "d0b4a7b1-ce36-433e-d8a6-cdd3c78e3839"
      },
      "execution_count": null,
      "outputs": [
        {
          "output_type": "stream",
          "name": "stdout",
          "text": [
            "root\n",
            " |-- id: string (nullable = true)\n",
            " |-- label: integer (nullable = true)\n",
            " |-- text: string (nullable = true)\n",
            " |-- words: array (nullable = true)\n",
            " |    |-- element: string (containsNull = true)\n",
            " |-- filtered: array (nullable = true)\n",
            " |    |-- element: string (containsNull = true)\n",
            " |-- raw_features: vector (nullable = true)\n",
            " |-- features: vector (nullable = true)\n",
            "\n",
            "root\n",
            " |-- id: string (nullable = true)\n",
            " |-- label: integer (nullable = true)\n",
            " |-- text: string (nullable = true)\n",
            " |-- words: array (nullable = true)\n",
            " |    |-- element: string (containsNull = true)\n",
            " |-- filtered: array (nullable = true)\n",
            " |    |-- element: string (containsNull = true)\n",
            " |-- raw_features: vector (nullable = true)\n",
            " |-- features: vector (nullable = true)\n",
            "\n"
          ]
        }
      ]
    },
    {
      "cell_type": "code",
      "source": [
        "# model object\n",
        "lr7 = LogisticRegression(featuresCol='features',\n",
        "                        labelCol='label',\n",
        "                        family=\"multinomial\",\n",
        "                        regParam=0.3,\n",
        "                        elasticNetParam=0,\n",
        "                        maxIter=50)\n",
        "\n",
        "# train model with default parameters\n",
        "lrModel7 = lr7.fit(df_train7)\n",
        "\n",
        "# get predictions for test set\n",
        "predictions7 = lrModel7.transform(df_test7)\n",
        "\n",
        "# show top 20 predictions\n",
        "predictions7.select(\"text\", 'probability','prediction', 'label').show()"
      ],
      "metadata": {
        "colab": {
          "base_uri": "https://localhost:8080/"
        },
        "id": "lXXrXMi711be",
        "outputId": "938eb7ac-b7c5-4a1c-dc7c-476936fbbf59"
      },
      "execution_count": null,
      "outputs": [
        {
          "output_type": "stream",
          "name": "stdout",
          "text": [
            "+--------------------+--------------------+----------+-----+\n",
            "|                text|         probability|prediction|label|\n",
            "+--------------------+--------------------+----------+-----+\n",
            "|Yuck. Wife and I ...|[0.09769634153495...|       1.0|    0|\n",
            "|I believe this sm...|[0.08314361831474...|       1.0|    2|\n",
            "|They stopped havi...|[0.20038303958509...|       2.0|    2|\n",
            "|didn't they close...|[0.39312074737731...|       0.0|    0|\n",
            "|Went for lunch. I...|[0.28048443645106...|       0.0|    0|\n",
            "|\"My family and I ...|[0.15327976325785...|       1.0|    2|\n",
            "|Boyfriend & I wer...|[0.53517501331312...|       0.0|    0|\n",
            "|\"I am a spring tr...|[0.00797908130629...|       3.0|    4|\n",
            "|One of my absolut...|[0.26976474905379...|       3.0|    4|\n",
            "|Zimbrick Acura is...|[0.46747991062350...|       0.0|    0|\n",
            "|The Orange Table ...|[0.03468206656767...|       3.0|    4|\n",
            "|Not a huge fan.  ...|[0.24732827658878...|       1.0|    1|\n",
            "|Indeed one of the...|[0.13220362737497...|       3.0|    3|\n",
            "|Okay, sorry guys....|[0.21794683031108...|       1.0|    1|\n",
            "|I used to love th...|[0.15976913296961...|       1.0|    2|\n",
            "|This was the wors...|[0.65790596673245...|       0.0|    1|\n",
            "|The service was g...|[0.08914789295007...|       2.0|    0|\n",
            "|Six always ends m...|[0.02990418994331...|       2.0|    4|\n",
            "|Unfortunately, my...|[0.34484517389372...|       1.0|    0|\n",
            "|This place get ne...|[0.85079003100861...|       0.0|    0|\n",
            "+--------------------+--------------------+----------+-----+\n",
            "only showing top 20 rows\n",
            "\n"
          ]
        }
      ]
    },
    {
      "cell_type": "code",
      "source": [
        "# to evalute model\n",
        "evaluator7 = MulticlassClassificationEvaluator(predictionCol=\"prediction\")\n",
        "\n",
        "# print test accuracy\n",
        "print(\"Test-set Accuracy is : \", evaluator7.evaluate(predictions7))"
      ],
      "metadata": {
        "colab": {
          "base_uri": "https://localhost:8080/"
        },
        "id": "zopMDV_z2gKo",
        "outputId": "2ce82fa0-e474-4f98-b8b4-cfe22f772605"
      },
      "execution_count": null,
      "outputs": [
        {
          "output_type": "stream",
          "name": "stdout",
          "text": [
            "Test-set Accuracy is :  0.4746831612280654\n"
          ]
        }
      ]
    },
    {
      "cell_type": "code",
      "source": [
        "# Split Train/Test data 15K\n",
        "(train8, test8) = rescaled_data.randomSplit([0.46,0.54], seed= 2000)\n",
        "print(\"Training Dataset Count: \" + str(train8.count()))\n",
        "print(\"Test Dataset Count: \" + str(test8.count()))"
      ],
      "metadata": {
        "colab": {
          "base_uri": "https://localhost:8080/"
        },
        "id": "YPyh8-zd3vnJ",
        "outputId": "5bf48eee-ea33-405e-fb68-770e037f962e"
      },
      "execution_count": null,
      "outputs": [
        {
          "output_type": "stream",
          "name": "stdout",
          "text": [
            "Training Dataset Count: 15070\n",
            "Test Dataset Count: 17430\n"
          ]
        }
      ]
    },
    {
      "cell_type": "code",
      "source": [
        "df_train8 = train8.withColumn(\"label\",col(\"label\").cast(IntegerType()))\n",
        "df_test8 = test8.withColumn(\"label\",col(\"label\").cast(IntegerType()))\n",
        "\n",
        "\n",
        "df_train8.printSchema()\n",
        "df_test8.printSchema()"
      ],
      "metadata": {
        "colab": {
          "base_uri": "https://localhost:8080/"
        },
        "id": "guUQev_h4faS",
        "outputId": "1244a683-5a6e-4a0b-d55c-6f64dee28935"
      },
      "execution_count": null,
      "outputs": [
        {
          "output_type": "stream",
          "name": "stdout",
          "text": [
            "root\n",
            " |-- id: string (nullable = true)\n",
            " |-- label: integer (nullable = true)\n",
            " |-- text: string (nullable = true)\n",
            " |-- words: array (nullable = true)\n",
            " |    |-- element: string (containsNull = true)\n",
            " |-- filtered: array (nullable = true)\n",
            " |    |-- element: string (containsNull = true)\n",
            " |-- raw_features: vector (nullable = true)\n",
            " |-- features: vector (nullable = true)\n",
            "\n",
            "root\n",
            " |-- id: string (nullable = true)\n",
            " |-- label: integer (nullable = true)\n",
            " |-- text: string (nullable = true)\n",
            " |-- words: array (nullable = true)\n",
            " |    |-- element: string (containsNull = true)\n",
            " |-- filtered: array (nullable = true)\n",
            " |    |-- element: string (containsNull = true)\n",
            " |-- raw_features: vector (nullable = true)\n",
            " |-- features: vector (nullable = true)\n",
            "\n"
          ]
        }
      ]
    },
    {
      "cell_type": "code",
      "source": [
        "# model object\n",
        "lr8 = LogisticRegression(featuresCol='features',\n",
        "                        labelCol='label',\n",
        "                        family=\"multinomial\",\n",
        "                        regParam=0.3,\n",
        "                        elasticNetParam=0,\n",
        "                        maxIter=50)\n",
        "\n",
        "# train model with default parameters\n",
        "lrModel8 = lr8.fit(df_train8)\n",
        "\n",
        "# get predictions for test set\n",
        "predictions8 = lrModel8.transform(df_test8)\n",
        "\n",
        "# show top 20 predictions\n",
        "predictions8.select(\"text\", 'probability','prediction', 'label').show()"
      ],
      "metadata": {
        "colab": {
          "base_uri": "https://localhost:8080/"
        },
        "id": "Zp1D-BS14oGj",
        "outputId": "54b66a30-57ff-4ff3-d1f1-7a42ab93604c"
      },
      "execution_count": null,
      "outputs": [
        {
          "output_type": "stream",
          "name": "stdout",
          "text": [
            "+--------------------+--------------------+----------+-----+\n",
            "|                text|         probability|prediction|label|\n",
            "+--------------------+--------------------+----------+-----+\n",
            "|Yuck. Wife and I ...|[0.03533302121567...|       1.0|    0|\n",
            "|I believe this sm...|[0.07569922235273...|       1.0|    2|\n",
            "|On 11-19-10 @ 1:4...|[0.69385185717297...|       0.0|    0|\n",
            "|They stopped havi...|[0.19563513567746...|       2.0|    2|\n",
            "|Same as the other...|[0.23252390003474...|       1.0|    0|\n",
            "|didn't they close...|[0.36612714900686...|       0.0|    0|\n",
            "|Went for lunch. I...|[0.28645996758369...|       0.0|    0|\n",
            "|I'm not a huge fa...|[0.09375501974801...|       4.0|    3|\n",
            "|\"My family and I ...|[0.21522025294045...|       1.0|    2|\n",
            "|Just an update to...|[0.19587448873527...|       3.0|    2|\n",
            "|Delicious non-fra...|[0.02937278921683...|       2.0|    3|\n",
            "|Boyfriend & I wer...|[0.56652968842539...|       0.0|    0|\n",
            "|\"I am a spring tr...|[0.01043522227439...|       3.0|    4|\n",
            "|One of my absolut...|[0.33712504351610...|       0.0|    4|\n",
            "|My dress was beau...|[0.45007817732294...|       0.0|    2|\n",
            "|Zimbrick Acura is...|[0.46552970621015...|       0.0|    0|\n",
            "|Went through the ...|[0.37785401096991...|       0.0|    1|\n",
            "|Office is small i...|[0.45068234924743...|       0.0|    0|\n",
            "|I was in a bind l...|[0.16996628245088...|       1.0|    2|\n",
            "|The Orange Table ...|[0.02922028029306...|       3.0|    4|\n",
            "+--------------------+--------------------+----------+-----+\n",
            "only showing top 20 rows\n",
            "\n"
          ]
        }
      ]
    },
    {
      "cell_type": "code",
      "source": [
        "# to evalute model\n",
        "evaluator8 = MulticlassClassificationEvaluator(predictionCol=\"prediction\")\n",
        "\n",
        "# print test accuracy\n",
        "print(\"Test-set Accuracy is : \", evaluator8.evaluate(predictions8))"
      ],
      "metadata": {
        "colab": {
          "base_uri": "https://localhost:8080/"
        },
        "id": "wNKouLCm43X0",
        "outputId": "988dfab3-a8b5-4451-e777-ea70d017335b"
      },
      "execution_count": null,
      "outputs": [
        {
          "output_type": "stream",
          "name": "stdout",
          "text": [
            "Test-set Accuracy is :  0.4646821818497344\n"
          ]
        }
      ]
    },
    {
      "cell_type": "code",
      "source": [
        "# Split Train/Test data 10K\n",
        "(train9, test9) = rescaled_data.randomSplit([0.32,0.68], seed= 2000)\n",
        "print(\"Training Dataset Count: \" + str(train9.count()))\n",
        "print(\"Test Dataset Count: \" + str(test9.count()))"
      ],
      "metadata": {
        "colab": {
          "base_uri": "https://localhost:8080/"
        },
        "id": "mX0wMdX14_fT",
        "outputId": "4d027728-7c4c-4e04-c154-25094acfb04d"
      },
      "execution_count": null,
      "outputs": [
        {
          "output_type": "stream",
          "name": "stdout",
          "text": [
            "Training Dataset Count: 10323\n",
            "Test Dataset Count: 22177\n"
          ]
        }
      ]
    },
    {
      "cell_type": "code",
      "source": [
        "df_train9 = train9.withColumn(\"label\",col(\"label\").cast(IntegerType()))\n",
        "df_test9 = test9.withColumn(\"label\",col(\"label\").cast(IntegerType()))\n",
        "\n",
        "\n",
        "df_train9.printSchema()\n",
        "df_test9.printSchema()"
      ],
      "metadata": {
        "colab": {
          "base_uri": "https://localhost:8080/"
        },
        "id": "gipTjTZy5Y2u",
        "outputId": "11459410-351b-4c7a-809c-928cae881e96"
      },
      "execution_count": null,
      "outputs": [
        {
          "output_type": "stream",
          "name": "stdout",
          "text": [
            "root\n",
            " |-- id: string (nullable = true)\n",
            " |-- label: integer (nullable = true)\n",
            " |-- text: string (nullable = true)\n",
            " |-- words: array (nullable = true)\n",
            " |    |-- element: string (containsNull = true)\n",
            " |-- filtered: array (nullable = true)\n",
            " |    |-- element: string (containsNull = true)\n",
            " |-- raw_features: vector (nullable = true)\n",
            " |-- features: vector (nullable = true)\n",
            "\n",
            "root\n",
            " |-- id: string (nullable = true)\n",
            " |-- label: integer (nullable = true)\n",
            " |-- text: string (nullable = true)\n",
            " |-- words: array (nullable = true)\n",
            " |    |-- element: string (containsNull = true)\n",
            " |-- filtered: array (nullable = true)\n",
            " |    |-- element: string (containsNull = true)\n",
            " |-- raw_features: vector (nullable = true)\n",
            " |-- features: vector (nullable = true)\n",
            "\n"
          ]
        }
      ]
    },
    {
      "cell_type": "code",
      "source": [
        "# model object\n",
        "lr9 = LogisticRegression(featuresCol='features',\n",
        "                        labelCol='label',\n",
        "                        family=\"multinomial\",\n",
        "                        regParam=0.3,\n",
        "                        elasticNetParam=0,\n",
        "                        maxIter=50)\n",
        "\n",
        "# train model with default parameters\n",
        "lrModel9 = lr9.fit(df_train9)\n",
        "\n",
        "# get predictions for test set\n",
        "predictions9 = lrModel9.transform(df_test9)\n",
        "\n",
        "# show top 20 predictions\n",
        "predictions9.select(\"text\", 'probability','prediction', 'label').show()"
      ],
      "metadata": {
        "colab": {
          "base_uri": "https://localhost:8080/"
        },
        "id": "ETs5M0EBhJXl",
        "outputId": "d24a8f0f-c768-4374-97fd-2cbf73656bb9"
      },
      "execution_count": null,
      "outputs": [
        {
          "output_type": "stream",
          "name": "stdout",
          "text": [
            "+--------------------+--------------------+----------+-----+\n",
            "|                text|         probability|prediction|label|\n",
            "+--------------------+--------------------+----------+-----+\n",
            "|Very clean. The p...|[0.40330263472442...|       1.0|    2|\n",
            "|I have been eatin...|[0.25366858760379...|       0.0|    3|\n",
            "|Yuck. Wife and I ...|[0.24320223230277...|       1.0|    0|\n",
            "|I believe this sm...|[0.06640149597730...|       3.0|    2|\n",
            "|On 11-19-10 @ 1:4...|[0.56228477130751...|       0.0|    0|\n",
            "|\"They originally ...|[0.97531205628301...|       0.0|    0|\n",
            "|They stopped havi...|[0.19257040396191...|       2.0|    2|\n",
            "|Same as the other...|[0.26620514650272...|       1.0|    0|\n",
            "|didn't they close...|[0.32664798882946...|       0.0|    0|\n",
            "|Went for lunch. I...|[0.27702252594908...|       0.0|    0|\n",
            "|I'm not a huge fa...|[0.08652410971907...|       4.0|    3|\n",
            "|\"My family and I ...|[0.29123195562113...|       1.0|    2|\n",
            "|Just an update to...|[0.20222464535228...|       3.0|    2|\n",
            "|Delicious non-fra...|[0.02405665078941...|       2.0|    3|\n",
            "|Boyfriend & I wer...|[0.49568986361828...|       0.0|    0|\n",
            "|\"Great food, but ...|[0.41670352815811...|       0.0|    1|\n",
            "|So, I've enjoyed ...|[0.14763641229423...|       2.0|    1|\n",
            "|\"I am a spring tr...|[0.01509250033031...|       3.0|    4|\n",
            "|One of my absolut...|[0.19704174455703...|       3.0|    4|\n",
            "|First timer and I...|[0.09828742407574...|       4.0|    3|\n",
            "+--------------------+--------------------+----------+-----+\n",
            "only showing top 20 rows\n",
            "\n"
          ]
        }
      ]
    },
    {
      "cell_type": "code",
      "source": [
        "# to evalute model\n",
        "evaluator9 = MulticlassClassificationEvaluator(predictionCol=\"prediction\")\n",
        "\n",
        "# print test accuracy\n",
        "print(\"Test-set Accuracy is : \", evaluator9.evaluate(predictions9))"
      ],
      "metadata": {
        "colab": {
          "base_uri": "https://localhost:8080/"
        },
        "id": "9A0tZDT_5pyh",
        "outputId": "9d51c6a2-0932-4fdd-dfa4-b5a7fb1cc458"
      },
      "execution_count": null,
      "outputs": [
        {
          "output_type": "stream",
          "name": "stdout",
          "text": [
            "Test-set Accuracy is :  0.45231865863757914\n"
          ]
        }
      ]
    },
    {
      "cell_type": "code",
      "source": [
        "# Accuracy decreased as the training set sample size decreased\n",
        "# higher test set used than the training set\n",
        "# Sampling the data using 30K, 25K, 20K, 15K, and 10K produced biased results\n",
        "#none of the random sample models are good models - accuracy is too low and errors are high"
      ],
      "metadata": {
        "id": "Bb3zYArf502d"
      },
      "execution_count": null,
      "outputs": []
    },
    {
      "cell_type": "code",
      "source": [
        "# Split Train/Test data\n",
        "(train10, test10) = rescaled_data.randomSplit([0.75, 0.25], seed = 202)\n",
        "print(\"Training Dataset Count: \" + str(train10.count()))\n",
        "print(\"Test Dataset Count: \" + str(test10.count()))\n"
      ],
      "metadata": {
        "colab": {
          "base_uri": "https://localhost:8080/"
        },
        "id": "oyrC6D0sLwVx",
        "outputId": "f2ecc8e5-65ce-4bd8-cd57-f39b481ed309"
      },
      "execution_count": null,
      "outputs": [
        {
          "output_type": "stream",
          "name": "stdout",
          "text": [
            "Training Dataset Count: 24341\n",
            "Test Dataset Count: 8159\n"
          ]
        }
      ]
    },
    {
      "cell_type": "code",
      "source": [
        "# Split Train/Test data\n",
        "(train11, test11) = rescaled_data2.randomSplit([0.75, 0.25], seed = 202)\n",
        "print(\"Training Dataset Count: \" + str(train11.count()))\n",
        "print(\"Test Dataset Count: \" + str(test11.count()))"
      ],
      "metadata": {
        "colab": {
          "base_uri": "https://localhost:8080/"
        },
        "id": "bGN7bO97aEme",
        "outputId": "b9e6ef36-5837-4ecd-d942-afb67d148da7"
      },
      "execution_count": null,
      "outputs": [
        {
          "output_type": "stream",
          "name": "stdout",
          "text": [
            "Training Dataset Count: 3749\n",
            "Test Dataset Count: 1251\n"
          ]
        }
      ]
    },
    {
      "cell_type": "code",
      "source": [
        "df_train10 = train10.withColumn(\"label\",col(\"label\").cast(IntegerType()))\n",
        "df_test10 = test10.withColumn(\"label\",col(\"label\").cast(IntegerType()))\n",
        "df_train11 = train11.withColumn(\"label\",col(\"label\").cast(IntegerType()))\n",
        "df_test11 = test11.withColumn(\"label\",col(\"label\").cast(IntegerType()))\n",
        "\n",
        "df_train10.printSchema()\n",
        "df_test10.printSchema()\n",
        "df_train11.printSchema()\n",
        "df_test11.printSchema()"
      ],
      "metadata": {
        "colab": {
          "base_uri": "https://localhost:8080/"
        },
        "id": "Q3JxY0oOMG5y",
        "outputId": "f559019e-5c09-46e5-a4f7-23a209941df4"
      },
      "execution_count": null,
      "outputs": [
        {
          "output_type": "stream",
          "name": "stdout",
          "text": [
            "root\n",
            " |-- id: string (nullable = true)\n",
            " |-- label: integer (nullable = true)\n",
            " |-- text: string (nullable = true)\n",
            " |-- words: array (nullable = true)\n",
            " |    |-- element: string (containsNull = true)\n",
            " |-- filtered: array (nullable = true)\n",
            " |    |-- element: string (containsNull = true)\n",
            " |-- raw_features: vector (nullable = true)\n",
            " |-- features: vector (nullable = true)\n",
            "\n",
            "root\n",
            " |-- id: string (nullable = true)\n",
            " |-- label: integer (nullable = true)\n",
            " |-- text: string (nullable = true)\n",
            " |-- words: array (nullable = true)\n",
            " |    |-- element: string (containsNull = true)\n",
            " |-- filtered: array (nullable = true)\n",
            " |    |-- element: string (containsNull = true)\n",
            " |-- raw_features: vector (nullable = true)\n",
            " |-- features: vector (nullable = true)\n",
            "\n",
            "root\n",
            " |-- id: string (nullable = true)\n",
            " |-- label: integer (nullable = true)\n",
            " |-- text: string (nullable = true)\n",
            " |-- words: array (nullable = true)\n",
            " |    |-- element: string (containsNull = true)\n",
            " |-- filtered: array (nullable = true)\n",
            " |    |-- element: string (containsNull = true)\n",
            " |-- raw_features: vector (nullable = true)\n",
            " |-- features: vector (nullable = true)\n",
            "\n",
            "root\n",
            " |-- id: string (nullable = true)\n",
            " |-- label: integer (nullable = true)\n",
            " |-- text: string (nullable = true)\n",
            " |-- words: array (nullable = true)\n",
            " |    |-- element: string (containsNull = true)\n",
            " |-- filtered: array (nullable = true)\n",
            " |    |-- element: string (containsNull = true)\n",
            " |-- raw_features: vector (nullable = true)\n",
            " |-- features: vector (nullable = true)\n",
            "\n"
          ]
        }
      ]
    },
    {
      "cell_type": "code",
      "source": [
        "\n",
        "label_stringIdx =StringIndexer(inputCol = 'label', outputCol = 'labelIndex')\n",
        "df_train01  = label_stringIdx.fit(df_train10).transform(df_train10)\n",
        "df_train01.show()\n",
        "\n",
        "label_stringIdx2 =StringIndexer(inputCol = 'label', outputCol = 'labelIndex')\n",
        "df_test01  = label_stringIdx2.fit(df_train10).transform(df_test10)\n",
        "df_test01.show()"
      ],
      "metadata": {
        "colab": {
          "base_uri": "https://localhost:8080/"
        },
        "id": "SYn-1JCPMaiK",
        "outputId": "06e42439-b6c7-4e4a-81d8-e89bcfae3844"
      },
      "execution_count": null,
      "outputs": [
        {
          "output_type": "stream",
          "name": "stdout",
          "text": [
            "+------+-----+--------------------+--------------------+--------------------+--------------------+--------------------+----------+\n",
            "|    id|label|                text|               words|            filtered|        raw_features|            features|labelIndex|\n",
            "+------+-----+--------------------+--------------------+--------------------+--------------------+--------------------+----------+\n",
            "|100020|    3|I hardly ever go ...|[i, hardly, ever,...|[hardly, ever, go...|(10000,[20,196,49...|(10000,[20,196,49...|       0.0|\n",
            "|100058|    2|Very clean. The p...|[very, clean, the...|[clean, people, w...|(10000,[15,94,141...|(10000,[15,94,141...|       3.0|\n",
            "|100119|    3|I have been eatin...|[i, have, been, e...|[eating, 18, year...|(10000,[281,533,9...|(10000,[281,533,9...|       0.0|\n",
            "|100214|    2|I believe this sm...|[i, believe, this...|[believe, small, ...|(10000,[7,71,94,2...|(10000,[7,71,94,2...|       3.0|\n",
            "|100259|    0|On 11-19-10 @ 1:4...|[on, 11, 19, 10, ...|[11, 19, 10, 1, 4...|(10000,[94,363,74...|(10000,[94,363,74...|       1.0|\n",
            "|100278|    0|\"NEVER AGAIN!  Ge...|[never, again, ge...|[never, getting, ...|(10000,[88,196,28...|(10000,[88,196,28...|       1.0|\n",
            "|100290|    0|\"I used to patron...|[i, used, to, pat...|[used, patronize,...|(10000,[141,157,5...|(10000,[141,157,5...|       1.0|\n",
            "|100368|    0|\"They originally ...|[they, originally...|[originally, char...|(10000,[20,50,91,...|(10000,[20,50,91,...|       1.0|\n",
            "|100404|    0|Same as the other...|[same, as, the, o...|[posts, got, igno...|(10000,[2053,2891...|(10000,[2053,2891...|       1.0|\n",
            "|100424|    0|didn't they close...|[didn, t, they, c...|[didn, close, alr...|(10000,[63,141,33...|(10000,[63,141,33...|       1.0|\n",
            "|100429|    0|Went for lunch. I...|[went, for, lunch...|[went, lunch, awful]|(10000,[3649,6801...|(10000,[3649,6801...|       1.0|\n",
            "|100449|    3|I'm not a huge fa...|[i, m, not, a, hu...|[m, huge, fan, pi...|(10000,[44,734,76...|(10000,[44,734,76...|       0.0|\n",
            "|100506|    2|\"My family and I ...|[my, family, and,...|[family, visited,...|(10000,[129,209,2...|(10000,[129,209,2...|       3.0|\n",
            "| 10051|    3|Authentic good qu...|[authentic, good,...|[authentic, good,...|(10000,[129,313,6...|(10000,[129,313,6...|       0.0|\n",
            "| 10053|    1|Imperial Garden h...|[imperial, garden...|[imperial, garden...|(10000,[228,299,4...|(10000,[228,299,4...|       4.0|\n",
            "| 10057|    2|Just an update to...|[just, an, update...|[update, say, eve...|(10000,[2196,2543...|(10000,[2196,2543...|       3.0|\n",
            "|100634|    3|Delicious non-fra...|[delicious, non, ...|[delicious, non, ...|(10000,[157,763,9...|(10000,[157,763,9...|       0.0|\n",
            "|100635|    2|The food was good...|[the, food, was, ...|[food, good, serv...|(10000,[763,815,9...|(10000,[763,815,9...|       3.0|\n",
            "|100697|    1|\"Great food, but ...|[great, food, but...|[great, food, hor...|(10000,[141,557,6...|(10000,[141,557,6...|       4.0|\n",
            "| 10075|    1|So, I've enjoyed ...|[so, i, ve, enjoy...|[ve, enjoyed, mi,...|(10000,[18,264,52...|(10000,[18,264,52...|       4.0|\n",
            "+------+-----+--------------------+--------------------+--------------------+--------------------+--------------------+----------+\n",
            "only showing top 20 rows\n",
            "\n",
            "+------+-----+--------------------+--------------------+--------------------+--------------------+--------------------+----------+\n",
            "|    id|label|                text|               words|            filtered|        raw_features|            features|labelIndex|\n",
            "+------+-----+--------------------+--------------------+--------------------+--------------------+--------------------+----------+\n",
            "|100164|    0|Yuck. Wife and I ...|[yuck, wife, and,...|[yuck, wife, plac...|(10000,[48,50,157...|(10000,[48,50,157...|       1.0|\n",
            "|100320|    0|\"terrible service...|[terrible, servic...|[terrible, servic...|(10000,[283,429,4...|(10000,[283,429,4...|       1.0|\n",
            "|100391|    2|They stopped havi...|[they, stopped, h...|[stopped, ufc, fi...|(10000,[45,495,52...|(10000,[45,495,52...|       3.0|\n",
            "|100608|    2|there's always a ...|[there, s, always...|[always, wait, sl...|(10000,[222,453,7...|(10000,[222,453,7...|       3.0|\n",
            "|100661|    0|Boyfriend & I wer...|[boyfriend, i, we...|[boyfriend, scott...|(10000,[5,129,578...|(10000,[5,129,578...|       1.0|\n",
            "|100768|    4|\"I am a spring tr...|[i, am, a, spring...|[spring, training...|(10000,[94,157,52...|(10000,[94,157,52...|       2.0|\n",
            "|100778|    4|One of my absolut...|[one, of, my, abs...|[one, absolute, f...|(10000,[50,150,16...|(10000,[50,150,16...|       2.0|\n",
            "|100793|    3|First timer and I...|[first, timer, an...|[first, timer, bl...|(10000,[47,313,70...|(10000,[47,313,70...|       0.0|\n",
            "|101227|    4|Orange Table is o...|[orange, table, i...|[orange, table, o...|(10000,[157,346,3...|(10000,[157,346,3...|       2.0|\n",
            "|101325|    4|\"SO much fun on a...|[so, much, fun, o...|[much, fun, satur...|(10000,[524,1220,...|(10000,[524,1220,...|       2.0|\n",
            "| 10141|    1|Okay, sorry guys....|[okay, sorry, guy...|[okay, sorry, guy...|(10000,[18,196,52...|(10000,[18,196,52...|       4.0|\n",
            "|101593|    1|\"I'm sorry Bravo ...|[i, m, sorry, bra...|[m, sorry, bravo,...|(10000,[129,527,5...|(10000,[129,527,5...|       4.0|\n",
            "|101699|    1|This was the wors...|[this, was, the, ...|[worst, mexican, ...|(10000,[80,129,14...|(10000,[80,129,14...|       4.0|\n",
            "|101742|    4|Six always ends m...|[six, always, end...|[six, always, end...|(10000,[144,266,6...|(10000,[144,266,6...|       2.0|\n",
            "|101830|    0|This place get ne...|[this, place, get...|[place, get, nega...|(10000,[129,141,1...|(10000,[129,141,1...|       1.0|\n",
            "|101844|    4|Who makes the bes...|[who, makes, the,...|[makes, best, piz...|(10000,[129,740,7...|(10000,[129,740,7...|       2.0|\n",
            "|101904|    0|This is one of th...|[this, is, one, o...|[one, times, ever...|(10000,[44,157,34...|(10000,[44,157,34...|       1.0|\n",
            "|101970|    0|\"The staff was be...|[the, staff, was,...|[staff, beyond, r...|(10000,[52,740,94...|(10000,[52,740,94...|       1.0|\n",
            "|102128|    4|\"Arcadia Farms is...|[arcadia, farms, ...|[arcadia, farms, ...|(10000,[815,1073,...|(10000,[815,1073,...|       2.0|\n",
            "|102183|    3|Absolutely wonder...|[absolutely, wond...|[absolutely, wond...|(10000,[750,763,8...|(10000,[750,763,8...|       0.0|\n",
            "+------+-----+--------------------+--------------------+--------------------+--------------------+--------------------+----------+\n",
            "only showing top 20 rows\n",
            "\n"
          ]
        }
      ]
    },
    {
      "cell_type": "code",
      "source": [
        "label_stringIdx3 =StringIndexer(inputCol = 'label', outputCol = 'labelIndex')\n",
        "df_train02  = label_stringIdx3.fit(df_train11).transform(df_train11)\n",
        "df_train02.show()\n",
        "\n",
        "label_stringIdx4 =StringIndexer(inputCol = 'label', outputCol = 'labelIndex')\n",
        "df_test02  = label_stringIdx4.fit(df_train11).transform(df_test11)\n",
        "df_test02.show()"
      ],
      "metadata": {
        "colab": {
          "base_uri": "https://localhost:8080/"
        },
        "id": "AgGysYKFaZaQ",
        "outputId": "a5a26e78-73ab-4ef2-feaf-a47f49bc1e2c"
      },
      "execution_count": null,
      "outputs": [
        {
          "output_type": "stream",
          "name": "stdout",
          "text": [
            "+-----+-----+--------------------+--------------------+--------------------+--------------------+--------------------+----------+\n",
            "|   id|label|                text|               words|            filtered|        raw_features|            features|labelIndex|\n",
            "+-----+-----+--------------------+--------------------+--------------------+--------------------+--------------------+----------+\n",
            "|10006|    0|Are you grooming ...|[are, you, groomi...|[grooming, child,...|(10000,[80,157,36...|(10000,[80,157,36...|       3.0|\n",
            "|10038|    2|This is a great w...|[this, is, a, gre...|[great, way, avoi...|(10000,[453,750,1...|(10000,[453,750,1...|       2.0|\n",
            "|10039|    0|Maybe we just wen...|[maybe, we, just,...|[maybe, went, bad...|(10000,[226,398,5...|(10000,[226,398,5...|       3.0|\n",
            "|10054|    1|Why did I even co...|[why, did, i, eve...|[even, come, big,...|(10000,[141,349,8...|(10000,[141,349,8...|       1.0|\n",
            "|10055|    2|In search of some...|[in, search, of, ...|[search, somethin...|(10000,[121,360,5...|(10000,[121,360,5...|       2.0|\n",
            "|10063|    2|\"This was the fir...|[this, was, the, ...|[first, store, hi...|(10000,[740,1029,...|(10000,[740,1029,...|       2.0|\n",
            "| 1007|    2|I had Saturday br...|[i, had, saturday...|[saturday, brunch...|(10000,[671,1821,...|(10000,[671,1821,...|       2.0|\n",
            "|10098|    2|Good:\\n-Clean roo...|[good, n, clean, ...|[good, n, clean, ...|(10000,[217,309,4...|(10000,[217,309,4...|       2.0|\n",
            "|10116|    0|worst way to get ...|[worst, way, to, ...|[worst, way, get,...|(10000,[80,332,39...|(10000,[80,332,39...|       3.0|\n",
            "|10124|    4|There was a sales...|[there, was, a, s...|[salesgirl, named...|(10000,[750,1243,...|(10000,[750,1243,...|       0.0|\n",
            "|10125|    1|This hotel needs ...|[this, hotel, nee...|[hotel, needs, co...|(10000,[20,55,157...|(10000,[20,55,157...|       1.0|\n",
            "|10133|    4|I only had time f...|[i, only, had, ti...|[time, beer, appe...|(10000,[52,58,157...|(10000,[52,58,157...|       0.0|\n",
            "|10134|    4|went beyond my ex...|[went, beyond, my...|[went, beyond, ex...|(10000,[308,993,1...|(10000,[308,993,1...|       0.0|\n",
            "|10137|    3|Our evening didn'...|[our, evening, di...|[evening, didn, s...|(10000,[141,196,5...|(10000,[141,196,5...|       4.0|\n",
            "| 1014|    0|Don't use this co...|[don, t, use, thi...|[use, company, pu...|(10000,[94,141,22...|(10000,[94,141,22...|       3.0|\n",
            "|10140|    3|The building is a...|[the, building, i...|[building, little...|(10000,[453,524,8...|(10000,[453,524,8...|       4.0|\n",
            "|10155|    1|Tried to have din...|[tried, to, have,...|[tried, dinner, b...|(10000,[18,387,13...|(10000,[18,387,13...|       1.0|\n",
            "|10174|    2|\"Since opentable ...|[since, opentable...|[since, opentable...|(10000,[45,65,107...|(10000,[45,65,107...|       2.0|\n",
            "|10184|    1|This place was a ...|[this, place, was...|[place, bit, disa...|(10000,[50,129,14...|(10000,[50,129,14...|       1.0|\n",
            "|10188|    2|I'm on the pursui...|[i, m, on, the, p...|[m, pursuit, happ...|(10000,[18,125,12...|(10000,[18,125,12...|       2.0|\n",
            "+-----+-----+--------------------+--------------------+--------------------+--------------------+--------------------+----------+\n",
            "only showing top 20 rows\n",
            "\n",
            "+-----+-----+--------------------+--------------------+--------------------+--------------------+--------------------+----------+\n",
            "|   id|label|                text|               words|            filtered|        raw_features|            features|labelIndex|\n",
            "+-----+-----+--------------------+--------------------+--------------------+--------------------+--------------------+----------+\n",
            "|10040|    3|An easy little st...|[an, easy, little...|[easy, little, st...|(10000,[141,219,3...|(10000,[141,219,3...|       4.0|\n",
            "|10090|    2|\"Mediocre stay. A...|[mediocre, stay, ...|[mediocre, stay, ...|(10000,[72,209,28...|(10000,[72,209,28...|       2.0|\n",
            "| 1010|    4|By far our favori...|[by, far, our, fa...|[far, favorite, s...|(10000,[157,557,5...|(10000,[157,557,5...|       0.0|\n",
            "|10146|    0|Battista's. Hot d...|[battista, s, hot...|[battista, hot, d...|(10000,[18,671,81...|(10000,[18,671,81...|       3.0|\n",
            "| 1018|    1|Time has passed t...|[time, has, passe...|[time, passed, pl...|(10000,[222,334,4...|(10000,[222,334,4...|       1.0|\n",
            "|10193|    3|Place is nice. Fo...|[place, is, nice,...|[place, nice, foo...|(10000,[157,1369,...|(10000,[157,1369,...|       4.0|\n",
            "|10197|    2|The employees spe...|[the, employees, ...|[employees, spend...|(10000,[353,2069,...|(10000,[353,2069,...|       2.0|\n",
            "|10199|    2|So we are HGVC ti...|[so, we, are, hgv...|[hgvc, time, shar...|(10000,[157,313,5...|(10000,[157,313,5...|       2.0|\n",
            "|10360|    4|Best Pizza I've h...|[best, pizza, i, ...|[best, pizza, ve,...|(10000,[763,1452,...|(10000,[763,1452,...|       0.0|\n",
            "|10397|    2|\"Who needs after ...|[who, needs, afte...|[needs, hours, cl...|(10000,[157,1069,...|(10000,[157,1069,...|       2.0|\n",
            "|10460|    3|I've been to Ruth...|[i, ve, been, to,...|[ve, ruth, chris,...|(10000,[132,157,3...|(10000,[132,157,3...|       4.0|\n",
            "|10500|    4|The Steakhouse is...|[the, steakhouse,...|[steakhouse, far,...|(10000,[44,222,27...|(10000,[44,222,27...|       0.0|\n",
            "|10523|    2|\"Went for a quick...|[went, for, a, qu...|[went, quick, lun...|(10000,[52,157,19...|(10000,[52,157,19...|       2.0|\n",
            "|10537|    1|I have stayed at ...|[i, have, stayed,...|[stayed, alexis, ...|(10000,[12,86,129...|(10000,[12,86,129...|       1.0|\n",
            "|10542|    4|\"Vegas has a gazi...|[vegas, has, a, g...|[vegas, gazillion...|(10000,[15,18,44,...|(10000,[15,18,44,...|       0.0|\n",
            "|10554|    2|\"This is for the ...|[this, is, for, t...|[male, strippers,...|(10000,[47,55,94,...|(10000,[47,55,94,...|       2.0|\n",
            "|10594|    2|It's a chain what...|[it, s, a, chain,...|[chain, expect, a...|(10000,[47,341,51...|(10000,[47,341,51...|       2.0|\n",
            "|10632|    3|Excellent place t...|[excellent, place...|[excellent, place...|(10000,[157,648,7...|(10000,[157,648,7...|       4.0|\n",
            "|10660|    3|Nice! OK, yes exp...|[nice, ok, yes, e...|[nice, ok, yes, e...|(10000,[288,1475,...|(10000,[288,1475,...|       4.0|\n",
            "| 1067|    4|We saw Mary Poppi...|[we, saw, mary, p...|[saw, mary, poppi...|(10000,[815,1339,...|(10000,[815,1339,...|       0.0|\n",
            "+-----+-----+--------------------+--------------------+--------------------+--------------------+--------------------+----------+\n",
            "only showing top 20 rows\n",
            "\n"
          ]
        }
      ]
    },
    {
      "cell_type": "code",
      "source": [
        "# Using randomforest\n",
        "\n",
        "rf =  RandomForestClassifier(featuresCol = 'features', labelCol = 'labelIndex', predictionCol = 'prediction')\n",
        "rfmodel = rf.fit(df_train01)\n",
        "predictions10 = rfmodel.transform(df_test01)\n",
        "predictions10.select('label', 'text', 'labelIndex', 'rawPrediction', 'prediction', 'probability').show(20)"
      ],
      "metadata": {
        "colab": {
          "base_uri": "https://localhost:8080/"
        },
        "id": "IOF5TCui6LpZ",
        "outputId": "bc029587-3e2b-47b5-ee35-2d9b861395d2"
      },
      "execution_count": null,
      "outputs": [
        {
          "output_type": "stream",
          "name": "stdout",
          "text": [
            "+-----+--------------------+----------+--------------------+----------+--------------------+\n",
            "|label|                text|labelIndex|       rawPrediction|prediction|         probability|\n",
            "+-----+--------------------+----------+--------------------+----------+--------------------+\n",
            "|    0|Yuck. Wife and I ...|       1.0|[3.61481662724820...|       4.0|[0.18074083136241...|\n",
            "|    0|\"terrible service...|       1.0|[3.26740314533080...|       1.0|[0.16337015726654...|\n",
            "|    2|They stopped havi...|       3.0|[3.89173797696241...|       1.0|[0.19458689884812...|\n",
            "|    2|there's always a ...|       3.0|[4.20296632755552...|       0.0|[0.21014831637777...|\n",
            "|    0|Boyfriend & I wer...|       1.0|[3.41489919437081...|       1.0|[0.17074495971854...|\n",
            "|    4|\"I am a spring tr...|       2.0|[4.08656697359442...|       3.0|[0.20432834867972...|\n",
            "|    4|One of my absolut...|       2.0|[4.14432622323527...|       3.0|[0.20721631116176...|\n",
            "|    3|First timer and I...|       0.0|[4.30586116516325...|       2.0|[0.21529305825816...|\n",
            "|    4|Orange Table is o...|       2.0|[5.04115082248108...|       0.0|[0.25205754112405...|\n",
            "|    4|\"SO much fun on a...|       2.0|[3.97098143063050...|       1.0|[0.19854907153152...|\n",
            "|    1|Okay, sorry guys....|       4.0|[3.90033771884320...|       4.0|[0.19501688594216...|\n",
            "|    1|\"I'm sorry Bravo ...|       4.0|[3.69164572439759...|       1.0|[0.18458228621987...|\n",
            "|    1|This was the wors...|       4.0|[3.73237301578035...|       1.0|[0.18661865078901...|\n",
            "|    4|Six always ends m...|       2.0|[4.33740483518007...|       0.0|[0.21687024175900...|\n",
            "|    0|This place get ne...|       1.0|[3.44704109013431...|       1.0|[0.17235205450671...|\n",
            "|    4|Who makes the bes...|       2.0|[4.53475587152622...|       2.0|[0.22673779357631...|\n",
            "|    0|This is one of th...|       1.0|[3.90011882297672...|       1.0|[0.19500594114883...|\n",
            "|    0|\"The staff was be...|       1.0|[4.09279636103394...|       0.0|[0.20463981805169...|\n",
            "|    4|\"Arcadia Farms is...|       2.0|[3.97098143063050...|       1.0|[0.19854907153152...|\n",
            "|    3|Absolutely wonder...|       0.0|[4.31837293228640...|       2.0|[0.21591864661432...|\n",
            "+-----+--------------------+----------+--------------------+----------+--------------------+\n",
            "only showing top 20 rows\n",
            "\n"
          ]
        }
      ]
    },
    {
      "cell_type": "code",
      "source": [
        "# Using randomforest\n",
        "\n",
        "rf2 =  RandomForestClassifier(featuresCol = 'features', labelCol = 'labelIndex', predictionCol = 'prediction')\n",
        "rfmodel2 = rf2.fit(df_train02)\n",
        "predictions11 = rfmodel2.transform(df_test02)\n",
        "predictions11.select('label', 'text', 'labelIndex', 'rawPrediction', 'prediction', 'probability').show(20)"
      ],
      "metadata": {
        "colab": {
          "base_uri": "https://localhost:8080/"
        },
        "id": "jwSbgUADa55r",
        "outputId": "81bf80cd-696d-4e7f-a70c-ea33a9213cfe"
      },
      "execution_count": null,
      "outputs": [
        {
          "output_type": "stream",
          "name": "stdout",
          "text": [
            "+-----+--------------------+----------+--------------------+----------+--------------------+\n",
            "|label|                text|labelIndex|       rawPrediction|prediction|         probability|\n",
            "+-----+--------------------+----------+--------------------+----------+--------------------+\n",
            "|    3|An easy little st...|       4.0|[4.06941303440968...|       0.0|[0.20347065172048...|\n",
            "|    2|\"Mediocre stay. A...|       2.0|[4.41029405755225...|       0.0|[0.22051470287761...|\n",
            "|    4|By far our favori...|       0.0|[4.60785037826813...|       0.0|[0.23039251891340...|\n",
            "|    0|Battista's. Hot d...|       3.0|[3.78195466771799...|       1.0|[0.18909773338589...|\n",
            "|    1|Time has passed t...|       1.0|[3.91851333807945...|       3.0|[0.19592566690397...|\n",
            "|    3|Place is nice. Fo...|       4.0|[4.22297618512435...|       0.0|[0.21114880925621...|\n",
            "|    2|The employees spe...|       2.0|[4.14019625319269...|       3.0|[0.20700981265963...|\n",
            "|    2|So we are HGVC ti...|       2.0|[4.55695192662075...|       0.0|[0.22784759633103...|\n",
            "|    4|Best Pizza I've h...|       0.0|[4.59482018323015...|       0.0|[0.22974100916150...|\n",
            "|    2|\"Who needs after ...|       2.0|[4.34479794495298...|       0.0|[0.21723989724764...|\n",
            "|    3|I've been to Ruth...|       4.0|[3.76922772787598...|       2.0|[0.18846138639379...|\n",
            "|    4|The Steakhouse is...|       0.0|[4.89637404102013...|       0.0|[0.24481870205100...|\n",
            "|    2|\"Went for a quick...|       2.0|[3.95975804858375...|       3.0|[0.19798790242918...|\n",
            "|    1|I have stayed at ...|       1.0|[3.38576563477777...|       3.0|[0.16928828173888...|\n",
            "|    4|\"Vegas has a gazi...|       0.0|[4.89014945314508...|       0.0|[0.24450747265725...|\n",
            "|    2|\"This is for the ...|       2.0|[3.98972116427268...|       1.0|[0.19948605821363...|\n",
            "|    2|It's a chain what...|       2.0|[3.66705221776572...|       2.0|[0.18335261088828...|\n",
            "|    3|Excellent place t...|       4.0|[4.51164083419256...|       0.0|[0.22558204170962...|\n",
            "|    3|Nice! OK, yes exp...|       4.0|[4.23354570785612...|       0.0|[0.21167728539280...|\n",
            "|    4|We saw Mary Poppi...|       0.0|[4.94711505096662...|       0.0|[0.24735575254833...|\n",
            "+-----+--------------------+----------+--------------------+----------+--------------------+\n",
            "only showing top 20 rows\n",
            "\n"
          ]
        }
      ]
    },
    {
      "cell_type": "code",
      "source": [
        "predictions10.select(\"labelIndex\", \"prediction\").show(10)"
      ],
      "metadata": {
        "colab": {
          "base_uri": "https://localhost:8080/"
        },
        "id": "grl7wdOEPsh9",
        "outputId": "5f5d130d-d29d-471e-a01f-a749ddca733e"
      },
      "execution_count": null,
      "outputs": [
        {
          "output_type": "stream",
          "name": "stdout",
          "text": [
            "+----------+----------+\n",
            "|labelIndex|prediction|\n",
            "+----------+----------+\n",
            "|       1.0|       4.0|\n",
            "|       1.0|       1.0|\n",
            "|       3.0|       1.0|\n",
            "|       3.0|       0.0|\n",
            "|       1.0|       1.0|\n",
            "|       2.0|       3.0|\n",
            "|       2.0|       3.0|\n",
            "|       0.0|       2.0|\n",
            "|       2.0|       0.0|\n",
            "|       2.0|       1.0|\n",
            "+----------+----------+\n",
            "only showing top 10 rows\n",
            "\n"
          ]
        }
      ]
    },
    {
      "cell_type": "code",
      "source": [
        "predictions11.select(\"labelIndex\", \"prediction\").show(10)"
      ],
      "metadata": {
        "colab": {
          "base_uri": "https://localhost:8080/"
        },
        "id": "JFZHbBtRbIXH",
        "outputId": "25e37822-87ac-4360-c73f-5aaaf360cd21"
      },
      "execution_count": null,
      "outputs": [
        {
          "output_type": "stream",
          "name": "stdout",
          "text": [
            "+----------+----------+\n",
            "|labelIndex|prediction|\n",
            "+----------+----------+\n",
            "|       4.0|       0.0|\n",
            "|       2.0|       0.0|\n",
            "|       0.0|       0.0|\n",
            "|       3.0|       1.0|\n",
            "|       1.0|       3.0|\n",
            "|       4.0|       0.0|\n",
            "|       2.0|       3.0|\n",
            "|       2.0|       0.0|\n",
            "|       0.0|       0.0|\n",
            "|       2.0|       0.0|\n",
            "+----------+----------+\n",
            "only showing top 10 rows\n",
            "\n"
          ]
        }
      ]
    },
    {
      "cell_type": "code",
      "source": [
        "\n",
        "evaluator10 = MulticlassClassificationEvaluator(labelCol=\"labelIndex\", predictionCol=\"prediction\")\n",
        "accuracy10 = evaluator10.evaluate(predictions10)\n",
        "print(\"Accuracy = %s\" % (accuracy10))\n",
        "print(\"Test Error = %s\" % (1.0 - accuracy10))"
      ],
      "metadata": {
        "colab": {
          "base_uri": "https://localhost:8080/"
        },
        "id": "5_n4lSAgPy2h",
        "outputId": "632cd44c-da52-4010-d4ad-9a55c5f801be"
      },
      "execution_count": null,
      "outputs": [
        {
          "output_type": "stream",
          "name": "stdout",
          "text": [
            "Accuracy = 0.3655067317225917\n",
            "Test Error = 0.6344932682774083\n"
          ]
        }
      ]
    },
    {
      "cell_type": "code",
      "source": [
        "evaluator11 = MulticlassClassificationEvaluator(labelCol=\"labelIndex\", predictionCol=\"prediction\")\n",
        "accuracy11 = evaluator11.evaluate(predictions11)\n",
        "print(\"Accuracy = %s\" % (accuracy11))\n",
        "print(\"Test Error = %s\" % (1.0 - accuracy11))"
      ],
      "metadata": {
        "colab": {
          "base_uri": "https://localhost:8080/"
        },
        "id": "lEydpM8_bLTG",
        "outputId": "082477de-75ea-497c-d9b3-fd35693c1385"
      },
      "execution_count": null,
      "outputs": [
        {
          "output_type": "stream",
          "name": "stdout",
          "text": [
            "Accuracy = 0.3280016240142489\n",
            "Test Error = 0.6719983759857511\n"
          ]
        }
      ]
    },
    {
      "cell_type": "code",
      "source": [
        "#Confusion matrix\n",
        "\n",
        "preds_and_labels = predictions10.select(['prediction','labelIndex']).withColumn('labelIndex', F.col('labelIndex').cast(FloatType())).orderBy('prediction')\n",
        "preds_and_labels = preds_and_labels.select(['prediction','labelIndex'])\n",
        "metrics = MulticlassMetrics(preds_and_labels.rdd.map(tuple))\n",
        "print(metrics.confusionMatrix().toArray())"
      ],
      "metadata": {
        "colab": {
          "base_uri": "https://localhost:8080/"
        },
        "id": "LG-8LMmoQPCV",
        "outputId": "edbe5263-fa24-40c4-bc12-7a983c47c314"
      },
      "execution_count": null,
      "outputs": [
        {
          "output_type": "stream",
          "name": "stdout",
          "text": [
            "[[ 525.  295.  534.  229.   41.]\n",
            " [  79. 1240.  124.   92.  117.]\n",
            " [ 324.  271.  895.   86.   31.]\n",
            " [ 389.  451.  281.  382.  149.]\n",
            " [ 211.  730.  209.  271.  203.]]\n"
          ]
        }
      ]
    },
    {
      "cell_type": "code",
      "source": [
        "# According to confusion matrix  for yelp train data, 3245 reviews are correctly classified out of 8159 reviews. 4914 reviews are incorrectly classified."
      ],
      "metadata": {
        "id": "psWSGMLaQi-4"
      },
      "execution_count": null,
      "outputs": []
    },
    {
      "cell_type": "code",
      "source": [
        "#Confusion matrix\n",
        "\n",
        "preds_and_labels2 = predictions11.select(['prediction','labelIndex']).withColumn('labelIndex', F.col('labelIndex').cast(FloatType())).orderBy('prediction')\n",
        "preds_and_labels2 = preds_and_labels2.select(['prediction','labelIndex'])\n",
        "metrics2 = MulticlassMetrics(preds_and_labels2.rdd.map(tuple))\n",
        "print(metrics2.confusionMatrix().toArray())"
      ],
      "metadata": {
        "colab": {
          "base_uri": "https://localhost:8080/"
        },
        "id": "fvpSVrRUbcqI",
        "outputId": "e7fdb846-5737-4d8a-f116-d2e886eaec61"
      },
      "execution_count": null,
      "outputs": [
        {
          "output_type": "stream",
          "name": "stdout",
          "text": [
            "[[201.  15.  11.  16.   7.]\n",
            " [ 76.  87.  23.  55.   6.]\n",
            " [116.  54.  44.  32.  12.]\n",
            " [ 67.  35.   8. 114.   0.]\n",
            " [178.  36.  25.  14.  19.]]\n"
          ]
        }
      ]
    },
    {
      "cell_type": "code",
      "source": [
        "#According to confusion matrix 2 for yelp_test_data, 465 reviews are correctly classified out of 1251 reviews. 786 reviews are incorrectly classified."
      ],
      "metadata": {
        "id": "X_gtxj5i-iMI"
      },
      "execution_count": null,
      "outputs": []
    },
    {
      "cell_type": "code",
      "source": [
        "#Analysis\n",
        "#Models for both yelp_review_train and yelp_review_test did not produce a good accuracy rate because the error was significantly high with values of 0.66494 and 0.68804 respectively.\n",
        "#To sum up, RandomForest is not a good model for the yelp test and train datasets.\n",
        "\n",
        "#Recommended machine learning test: Logistic Regression\n",
        "\n"
      ],
      "metadata": {
        "id": "7oeWrQ1DbZGF"
      },
      "execution_count": null,
      "outputs": []
    },
    {
      "cell_type": "markdown",
      "source": [
        ":"
      ],
      "metadata": {
        "id": "quDTPitFVcHE"
      }
    }
  ]
}